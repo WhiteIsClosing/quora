{
 "cells": [
  {
   "cell_type": "code",
   "execution_count": 2,
   "metadata": {
    "collapsed": true
   },
   "outputs": [],
   "source": [
    "import pandas as pd\n",
    "import numpy as np\n",
    "import tensorflow as tf\n",
    "import matplotlib.pyplot as plt\n",
    "import re"
   ]
  },
  {
   "cell_type": "code",
   "execution_count": 2,
   "metadata": {
    "collapsed": true
   },
   "outputs": [],
   "source": [
    "df = pd.read_csv('train.csv')"
   ]
  },
  {
   "cell_type": "code",
   "execution_count": 3,
   "metadata": {
    "collapsed": true
   },
   "outputs": [],
   "source": [
    "interpunction = re.compile(r'(\\s|\\w)[\\.,?:\\(\\)]{1,}(\\w|\\s)?')\n",
    "math = re.compile(r'\\[math\\].+\\[\\/math\\]')\n",
    "concat_nr_word = re.compile(r'\\d\\w|\\d\\w')\n",
    "dollars = re.compile(r'$\\d+\\w?|\\d+$')\n",
    "clean_interpunction = re.compile(r'(?=\\w)[^a-z]{1,}|[^a-z]{1,}(?=\\w)|(?=\\w)[^a-z]{1,}(?=\\w)')\n",
    "spacing = re.compile(r'\\s{2,}')\n",
    "que = re.compile(r'\\w[\\?]')"
   ]
  },
  {
   "cell_type": "code",
   "execution_count": 8,
   "metadata": {
    "collapsed": true
   },
   "outputs": [],
   "source": [
    "test_df = pd.read_csv('test.csv')"
   ]
  },
  {
   "cell_type": "code",
   "execution_count": 5,
   "metadata": {
    "collapsed": true
   },
   "outputs": [],
   "source": [
    "def preprocess(x):\n",
    "    \n",
    "    w = interpunction.search(x)\n",
    "    c = concat_nr_word.search(x)\n",
    "    i = 0\n",
    "    \n",
    "    while bool(w):\n",
    "        \n",
    "        st, en = w.span()\n",
    "        x = x[:st+1] + ' ' + x[st+1:]\n",
    "        i += 1\n",
    "        w = interpunction.search(x)\n",
    "        \n",
    "        if i > 20:\n",
    "            break\n",
    "    \n",
    "    i = 0\n",
    "    \n",
    "    while bool(c):\n",
    "        \n",
    "        st, en = c.span()\n",
    "        x = x[:st] + ' ' + x[st:]\n",
    "        i += 1\n",
    "        \n",
    "        c = concat_nr_word.search(x)\n",
    "        if i > 20:\n",
    "            break\n",
    "            \n",
    "    q = que.search(x)\n",
    "    while bool(q):\n",
    "        \n",
    "        s, e = q.span()\n",
    "        x = x[:s+1] + ' '+ x[s+1:]\n",
    "        \n",
    "        q = que.search(x)\n",
    "        \n",
    "            \n",
    "    x = x.lower()\n",
    "    x = math.sub(' matheq ', x)\n",
    "    x = dollars.sub(' someamountofmoney ', x)\n",
    "    x = clean_interpunction.sub(' ', x)\n",
    "    x = spacing.sub(' ', x)\n",
    "    \n",
    "    return x"
   ]
  },
  {
   "cell_type": "code",
   "execution_count": 9,
   "metadata": {},
   "outputs": [
    {
     "name": "stdout",
     "output_type": "stream",
     "text": [
      "first one off\n"
     ]
    }
   ],
   "source": [
    "test_df['question1'] = test_df['question1'].astype(str).apply(preprocess)\n",
    "print('first one off')\n",
    "test_df['question2'] = test_df['question2'].astype(str).apply(preprocess)"
   ]
  },
  {
   "cell_type": "code",
   "execution_count": 11,
   "metadata": {
    "collapsed": true
   },
   "outputs": [],
   "source": [
    "test_df.to_csv('preprocessed_test.csv')"
   ]
  },
  {
   "cell_type": "code",
   "execution_count": 108,
   "metadata": {
    "collapsed": true
   },
   "outputs": [],
   "source": [
    "lengths = list(map(len, df['question1'].apply(preprocess).apply(lambda x: x.split())))"
   ]
  },
  {
   "cell_type": "code",
   "execution_count": 62,
   "metadata": {},
   "outputs": [
    {
     "data": {
      "image/png": "[encoded data removed]",
      "text/plain": [
       "<matplotlib.figure.Figure at 0x7fbc550bbbe0>"
      ]
     },
     "metadata": {},
     "output_type": "display_data"
    }
   ],
   "source": [
    "plt.hist(lengths, bins=100)\n",
    "plt.show()"
   ]
  },
  {
   "cell_type": "code",
   "execution_count": 64,
   "metadata": {
    "collapsed": true
   },
   "outputs": [],
   "source": [
    "lengths2 = list(map(len, df['question2'].astype(str).apply(preprocess).apply(lambda x: x.split())))"
   ]
  },
  {
   "cell_type": "code",
   "execution_count": 65,
   "metadata": {},
   "outputs": [
    {
     "data": {
      "image/png": "[encoded data removed]",
      "text/plain": [
       "<matplotlib.figure.Figure at 0x7fbc5f1ca358>"
      ]
     },
     "metadata": {},
     "output_type": "display_data"
    }
   ],
   "source": [
    "plt.hist(lengths2, bins=100)\n",
    "plt.show()"
   ]
  },
  {
   "cell_type": "code",
   "execution_count": 71,
   "metadata": {
    "collapsed": true
   },
   "outputs": [],
   "source": [
    "from sklearn.feature_extraction.text import CountVectorizer, TfidfVectorizer"
   ]
  },
  {
   "cell_type": "code",
   "execution_count": 7,
   "metadata": {
    "collapsed": true
   },
   "outputs": [],
   "source": [
    "preprocessed_df = df['question1'].astype(str).apply(preprocess)\n",
    "\n",
    "preprocessed_df = pd.concat([preprocessed_df, df['question2'].astype(str).apply(preprocess)], axis=1)"
   ]
  },
  {
   "cell_type": "code",
   "execution_count": 10,
   "metadata": {
    "collapsed": true
   },
   "outputs": [],
   "source": [
    "word_count = {}\n",
    "\n",
    "for col in ['question1', 'question2']:\n",
    "    \n",
    "    for q in preprocessed_df[col].astype(str):\n",
    "        \n",
    "        seq = q.split()\n",
    "        \n",
    "        for w in seq:\n",
    "            if w not in word_count:\n",
    "                word_count[w] = 0\n",
    "                \n",
    "            word_count[w] += 1"
   ]
  },
  {
   "cell_type": "code",
   "execution_count": 34,
   "metadata": {},
   "outputs": [
    {
     "data": {
      "text/plain": [
       "Index(['id', 'qid1', 'qid2', 'question1', 'question2', 'is_duplicate'], dtype='object')"
      ]
     },
     "execution_count": 34,
     "metadata": {},
     "output_type": "execute_result"
    }
   ],
   "source": [
    "df.columns"
   ]
  },
  {
   "cell_type": "code",
   "execution_count": 35,
   "metadata": {
    "collapsed": true
   },
   "outputs": [],
   "source": [
    "preprocessed_df = pd.concat([preprocessed_df, df['is_duplicate']], axis=1)"
   ]
  },
  {
   "cell_type": "code",
   "execution_count": 36,
   "metadata": {
    "collapsed": true
   },
   "outputs": [],
   "source": [
    "preprocessed_df.to_csv('preprocessed.csv')"
   ]
  },
  {
   "cell_type": "code",
   "execution_count": 11,
   "metadata": {
    "collapsed": true
   },
   "outputs": [],
   "source": [
    "import operator"
   ]
  },
  {
   "cell_type": "code",
   "execution_count": 12,
   "metadata": {
    "collapsed": true
   },
   "outputs": [],
   "source": [
    "words_with_counts = sorted(word_count.items(), key=operator.itemgetter(1))[::-1]"
   ]
  },
  {
   "cell_type": "code",
   "execution_count": 15,
   "metadata": {
    "collapsed": true
   },
   "outputs": [],
   "source": [
    "vocab, words_nrs = list(zip(*words_with_counts[:int(1e5)]))"
   ]
  },
  {
   "cell_type": "code",
   "execution_count": 176,
   "metadata": {
    "collapsed": true
   },
   "outputs": [],
   "source": [
    "vect = CountVectorizer(vocabulary=vocab, binary=True).fit(vocab)"
   ]
  },
  {
   "cell_type": "code",
   "execution_count": 183,
   "metadata": {},
   "outputs": [
    {
     "data": {
      "text/plain": [
       "(array([0, 0, 0, 0, 0, 0, 0, 0, 0, 0, 0, 0, 1, 1, 1, 1, 1, 1, 1, 1, 1, 2, 2,\n",
       "        2, 2, 2, 2, 2, 2, 2, 2, 2, 2, 3, 3, 3, 3, 3, 3, 3, 3, 3]),\n",
       " array([    1,     2,     3,     7,     8,    38,    60,   382,   565,\n",
       "          743,  1249,  2583,     1,     2,     3,     9,   587,  4616,\n",
       "        14092, 14658, 22567,     1,     5,     9,    14,    18,   139,\n",
       "          193,   212,   358,   437,  1816,  2781,     5,    14,    17,\n",
       "           20,    75,   290,   617,  2727,  2755]))"
      ]
     },
     "execution_count": 183,
     "metadata": {},
     "output_type": "execute_result"
    }
   ],
   "source": [
    "vect.transform(preprocessed_df.ix[:3, 'question1'].tolist()).toarray().nonzero()"
   ]
  }
 ],
 "metadata": {
  "kernelspec": {
   "display_name": "Python 3",
   "language": "python",
   "name": "python3"
  },
  "language_info": {
   "codemirror_mode": {
    "name": "ipython",
    "version": 3
   },
   "file_extension": ".py",
   "mimetype": "text/x-python",
   "name": "python",
   "nbconvert_exporter": "python",
   "pygments_lexer": "ipython3",
   "version": "3.5.2"
  }
 },
 "nbformat": 4,
 "nbformat_minor": 2
}
