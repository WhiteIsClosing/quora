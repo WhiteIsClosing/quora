{
 "cells": [
  {
   "cell_type": "code",
   "execution_count": 1,
   "metadata": {
    "collapsed": true
   },
   "outputs": [],
   "source": [
    "import numpy as np\n",
    "import pandas as pd\n",
    "import matplotlib.pyplot as plt\n",
    "import re\n",
    "import os\n",
    "import json"
   ]
  },
  {
   "cell_type": "code",
   "execution_count": 38,
   "metadata": {
    "collapsed": true
   },
   "outputs": [],
   "source": [
    "train = pd.read_csv('preprocessed.csv')"
   ]
  },
  {
   "cell_type": "markdown",
   "metadata": {},
   "source": [
    "I preprocessed data in 'preprocessed' notebook."
   ]
  },
  {
   "cell_type": "code",
   "execution_count": 39,
   "metadata": {},
   "outputs": [
    {
     "data": {
      "text/plain": [
       "0.36919785302629299"
      ]
     },
     "execution_count": 39,
     "metadata": {},
     "output_type": "execute_result"
    }
   ],
   "source": [
    "train['is_duplicate'].mean()"
   ]
  },
  {
   "cell_type": "markdown",
   "metadata": {},
   "source": [
    "Luckily, class imbalance is not as large as in, for instance, fraud detection"
   ]
  },
  {
   "cell_type": "code",
   "execution_count": 4,
   "metadata": {},
   "outputs": [
    {
     "data": {
      "text/plain": [
       "['what is the step by step guide to invest in share market in india ?',\n",
       " 'what is the step by step guide to invest in share market ?']"
      ]
     },
     "execution_count": 4,
     "metadata": {},
     "output_type": "execute_result"
    }
   ],
   "source": [
    "train.ix[0, ['question1', 'question2']].tolist()"
   ]
  },
  {
   "cell_type": "markdown",
   "metadata": {},
   "source": [
    "These are not duplicates - so this is going to be hard problem to crack, since Tf-Idf or any counting methods can have a hard time. First things first, let's investigate how proportion of common words correlates with being duplicate. Then I will go into checking n-grams."
   ]
  },
  {
   "cell_type": "code",
   "execution_count": 15,
   "metadata": {
    "collapsed": true
   },
   "outputs": [],
   "source": [
    "def get_ngram_features(row, n_gram=1):\n",
    "    \n",
    "    counts = []\n",
    "    if isinstance(n_gram, int):\n",
    "        n_grams = [n_gram]\n",
    "    del n_gram\n",
    "    for n_gram in n_grams:\n",
    "        ques = list(map(lambda x: x.split(), row[['question1', 'question2']].tolist()))\n",
    "        first = [' '.join(ques[0][j:j+n_gram]) for j in range(len(ques[0]) - n_gram +1)]\n",
    "        second = [' '.join(ques[1][j:j+n_gram]) for j in range(len(ques[1])- n_gram +1)]\n",
    "\n",
    "        sfirst = set(first)\n",
    "        ssecond = set(second)\n",
    "        common = [x for x in first if x in ssecond] + [x for x in second if x in sfirst]\n",
    "\n",
    "        arr = [len(common), len(first), len(second), len(sfirst), len(ssecond)]\n",
    "\n",
    "        ag1 = sum(arr[1:3])\n",
    "        ag2 = sum(arr[3:])\n",
    "        z = []\n",
    "        if ag1 == 0:\n",
    "            z.append(0)\n",
    "        else:\n",
    "            z.append(arr[0]/ag1)\n",
    "\n",
    "        if ag2 == 0:\n",
    "            z.append(0)\n",
    "        else:\n",
    "            z.append(arr[0]/ag2)\n",
    "\n",
    "        z.append( abs( arr[3] - arr[4] ) )\n",
    "        z.append( abs( arr[1] - arr[2] ) )\n",
    "        \n",
    "        counts += z\n",
    "        \n",
    "    return counts"
   ]
  },
  {
   "cell_type": "code",
   "execution_count": 7,
   "metadata": {
    "collapsed": true
   },
   "outputs": [],
   "source": [
    "from sklearn.preprocessing import FunctionTransformer\n",
    "from sklearn.pipeline import make_pipeline\n",
    "from functools import partial"
   ]
  },
  {
   "cell_type": "code",
   "execution_count": 30,
   "metadata": {
    "collapsed": true
   },
   "outputs": [],
   "source": [
    "class NgramVectorizer:\n",
    "    \n",
    "    def __init__(self, ngram=1, agg='min'):\n",
    "        \n",
    "        self.n = ngram\n",
    "        if isinstance(self.n, int):\n",
    "            self.n = [self.n]\n",
    "        pot = {'min':min, 'max':max, 'mean':np.mean, 'sum':sum}\n",
    "        \n",
    "    def translate(self, data):\n",
    "        \n",
    "        return np.asarray(data.apply(get_ngram_features, axis=1).tolist())\n",
    "        \n",
    "        \n",
    "    def fit(self, X, y=None):\n",
    "        \n",
    "        self.data = self.translate(X)\n",
    "    \n",
    "        return self\n",
    "    \n",
    "    def transform(self, X):\n",
    "        \n",
    "        return self.translate(X)\n",
    "    \n",
    "    def fit_transform(self, X, y=None):\n",
    "        \n",
    "        self.data = self.translate(X)\n",
    "        return self.data"
   ]
  },
  {
   "cell_type": "code",
   "execution_count": 32,
   "metadata": {},
   "outputs": [],
   "source": [
    "ngrams = NgramVectorizer(ngram=[1,2,3,4])"
   ]
  },
  {
   "cell_type": "code",
   "execution_count": 33,
   "metadata": {},
   "outputs": [],
   "source": [
    "st = list(set(list(map(type, train['question2']))))[0]"
   ]
  },
  {
   "cell_type": "code",
   "execution_count": 40,
   "metadata": {
    "collapsed": true
   },
   "outputs": [],
   "source": [
    "prop = np.where(train['question2'].apply(lambda x: type(x) == st))"
   ]
  },
  {
   "cell_type": "code",
   "execution_count": 41,
   "metadata": {
    "collapsed": true
   },
   "outputs": [],
   "source": [
    "train = train.ix[prop]"
   ]
  },
  {
   "cell_type": "code",
   "execution_count": 42,
   "metadata": {
    "scrolled": true
   },
   "outputs": [],
   "source": [
    "train = train.reset_index()"
   ]
  },
  {
   "cell_type": "code",
   "execution_count": 43,
   "metadata": {},
   "outputs": [
    {
     "data": {
      "text/plain": [
       "<__main__.NgramVectorizer at 0x7f97db604908>"
      ]
     },
     "execution_count": 43,
     "metadata": {},
     "output_type": "execute_result"
    }
   ],
   "source": [
    "ngrams.fit(train[:10000])"
   ]
  },
  {
   "cell_type": "code",
   "execution_count": 44,
   "metadata": {
    "collapsed": true
   },
   "outputs": [],
   "source": [
    "def plot_histograms(data, y, bins=10):\n",
    "    \n",
    "    y = np.asarray(y.tolist())\n",
    "    \n",
    "    ones = np.where(y==1)[0]\n",
    "    zeros = np.where(y==0)[0]\n",
    "    \n",
    "    \n",
    "    plt.hist(data[ones], color='r', alpha=.5, bins=bins, label='duplicate')\n",
    "    plt.hist(data[zeros], color='b', alpha=.5, bins=bins, label='not duplicate')\n",
    "    plt.legend(loc='best')"
   ]
  },
  {
   "cell_type": "code",
   "execution_count": 45,
   "metadata": {
    "collapsed": true
   },
   "outputs": [],
   "source": [
    "def plot_boxes(data, y):\n",
    "    \n",
    "    y = np.asarray(y.tolist())\n",
    "    \n",
    "    ones = np.where(y==1)[0]\n",
    "    zeros = np.where(y==0)[0]\n",
    "    \n",
    "    dataset = [data[ones], data[zeros]]\n",
    "    \n",
    "    plt.boxplot(dataset)\n",
    "    plt.xticks(range(1,3), ['duplicates', 'not duplicates'], rotation=45)"
   ]
  },
  {
   "cell_type": "code",
   "execution_count": 46,
   "metadata": {},
   "outputs": [
    {
     "data": {
      "image/png": "[encoded data removed]",
      "text/plain": [
       "<matplotlib.figure.Figure at 0x7f97d595d710>"
      ]
     },
     "metadata": {},
     "output_type": "display_data"
    }
   ],
   "source": [
    "plot_histograms(ngrams.data[:, 0], train.ix[:int(1e4)-1, 'is_duplicate'])\n",
    "plt.show()"
   ]
  },
  {
   "cell_type": "code",
   "execution_count": 47,
   "metadata": {},
   "outputs": [
    {
     "data": {
      "image/png": "[encoded data removed]",
      "text/plain": [
       "<matplotlib.figure.Figure at 0x7f97d958bb38>"
      ]
     },
     "metadata": {},
     "output_type": "display_data"
    }
   ],
   "source": [
    "plot_boxes(ngrams.data[:, 0], train.ix[:int(1e4)-1, 'is_duplicate'])\n",
    "plt.show()"
   ]
  },
  {
   "cell_type": "code",
   "execution_count": 48,
   "metadata": {
    "collapsed": true
   },
   "outputs": [],
   "source": [
    "y_sample = train.ix[:int(1e4)-1, 'is_duplicate']"
   ]
  },
  {
   "cell_type": "code",
   "execution_count": 49,
   "metadata": {},
   "outputs": [
    {
     "data": {
      "image/png": "[encoded data removed]",
      "text/plain": [
       "<matplotlib.figure.Figure at 0x7f97db5f2ef0>"
      ]
     },
     "metadata": {},
     "output_type": "display_data"
    }
   ],
   "source": [
    "plot_histograms(ngrams.data[:, 2], y_sample, bins=100)\n",
    "plt.ylim(0, 1000)\n",
    "plt.show()"
   ]
  },
  {
   "cell_type": "code",
   "execution_count": 51,
   "metadata": {
    "collapsed": true
   },
   "outputs": [],
   "source": [
    "from sklearn.linear_model import LogisticRegression\n",
    "from sklearn.model_selection import train_test_split"
   ]
  },
  {
   "cell_type": "code",
   "execution_count": 52,
   "metadata": {
    "collapsed": true
   },
   "outputs": [],
   "source": [
    "x_train, x_test, y_train, y_test = train_test_split(ngrams.data, y_sample.tolist(), test_size=.3)"
   ]
  },
  {
   "cell_type": "code",
   "execution_count": 53,
   "metadata": {},
   "outputs": [
    {
     "data": {
      "text/plain": [
       "LogisticRegression(C=5, class_weight=None, dual=False, fit_intercept=True,\n",
       "          intercept_scaling=1, max_iter=100, multi_class='ovr', n_jobs=1,\n",
       "          penalty='l2', random_state=None, solver='liblinear', tol=0.0001,\n",
       "          verbose=0, warm_start=False)"
      ]
     },
     "execution_count": 53,
     "metadata": {},
     "output_type": "execute_result"
    }
   ],
   "source": [
    "lr = LogisticRegression(C=5)\n",
    "lr.fit(x_train, y_train)"
   ]
  },
  {
   "cell_type": "code",
   "execution_count": 54,
   "metadata": {
    "collapsed": true
   },
   "outputs": [],
   "source": [
    "def get_scores(clf, x_test, y_test):\n",
    "    \n",
    "    return {\n",
    "        'log loss': log_loss(y_test, clf.predict_proba(x_test)),\n",
    "        'accuracy': clf.score(x_test, y_test),\n",
    "        'precision': precision_score(clf.predict(x_test), y_test),\n",
    "        'recall': recall_score(clf.predict(x_test), y_test),\n",
    "        'roc auc': roc_auc_score(y_test, clf.predict_proba(x_test)[:, 1])\n",
    "    }"
   ]
  },
  {
   "cell_type": "code",
   "execution_count": 55,
   "metadata": {
    "collapsed": true
   },
   "outputs": [],
   "source": [
    "from sklearn.metrics import precision_score, recall_score, log_loss, roc_auc_score"
   ]
  },
  {
   "cell_type": "code",
   "execution_count": 56,
   "metadata": {
    "scrolled": true
   },
   "outputs": [
    {
     "data": {
      "text/plain": [
       "{'accuracy': 0.64433333333333331,\n",
       " 'log loss': 0.59114200402567452,\n",
       " 'precision': 0.39282511210762333,\n",
       " 'recall': 0.52898550724637683,\n",
       " 'roc auc': 0.71235051325665211}"
      ]
     },
     "execution_count": 56,
     "metadata": {},
     "output_type": "execute_result"
    }
   ],
   "source": [
    "get_scores(lr, x_test, y_test)"
   ]
  },
  {
   "cell_type": "code",
   "execution_count": 57,
   "metadata": {
    "collapsed": true
   },
   "outputs": [],
   "source": [
    "from sklearn.feature_extraction.text import TfidfVectorizer"
   ]
  },
  {
   "cell_type": "code",
   "execution_count": 58,
   "metadata": {
    "collapsed": true
   },
   "outputs": [],
   "source": [
    "def is_subset(row):\n",
    "    \n",
    "    words_1 = set(row['question1'].lower().split())\n",
    "    words_2 = set(row['question2'].lower().split())\n",
    "    \n",
    "    if len(words_1) - len(words_2) == len(words_1 - words_2):\n",
    "        \n",
    "        return 1\n",
    "    \n",
    "    elif len(words_2) - len(words_1) == len(words_2 - words_1):\n",
    "        \n",
    "        return -1\n",
    "    \n",
    "    else:\n",
    "        \n",
    "        return 0"
   ]
  },
  {
   "cell_type": "code",
   "execution_count": 59,
   "metadata": {
    "collapsed": true
   },
   "outputs": [],
   "source": [
    "subsets = train.apply(is_subset, axis=1)"
   ]
  },
  {
   "cell_type": "code",
   "execution_count": 60,
   "metadata": {},
   "outputs": [
    {
     "data": {
      "text/plain": [
       " 0    375706\n",
       " 1     16548\n",
       "-1     12034\n",
       "dtype: int64"
      ]
     },
     "execution_count": 60,
     "metadata": {},
     "output_type": "execute_result"
    }
   ],
   "source": [
    "subsets.value_counts()"
   ]
  },
  {
   "cell_type": "code",
   "execution_count": 61,
   "metadata": {},
   "outputs": [
    {
     "data": {
      "text/plain": [
       " 0    132354\n",
       " 1      9290\n",
       "-1      7619\n",
       "dtype: int64"
      ]
     },
     "execution_count": 61,
     "metadata": {},
     "output_type": "execute_result"
    }
   ],
   "source": [
    "subsets[train['is_duplicate']==1].value_counts()"
   ]
  },
  {
   "cell_type": "code",
   "execution_count": 62,
   "metadata": {},
   "outputs": [
    {
     "data": {
      "text/plain": [
       " 0    243352\n",
       " 1      7258\n",
       "-1      4415\n",
       "dtype: int64"
      ]
     },
     "execution_count": 62,
     "metadata": {},
     "output_type": "execute_result"
    }
   ],
   "source": [
    "subsets[train['is_duplicate']==0].value_counts()"
   ]
  },
  {
   "cell_type": "code",
   "execution_count": 63,
   "metadata": {
    "collapsed": true
   },
   "outputs": [],
   "source": [
    "x_train, x_test, y_train, y_test = train_test_split(np.hstack([ngrams.data, subsets[:len(y_sample)].as_matrix().reshape(-1, 1)]), y_sample, test_size=.3)"
   ]
  },
  {
   "cell_type": "code",
   "execution_count": 64,
   "metadata": {},
   "outputs": [
    {
     "data": {
      "text/plain": [
       "LogisticRegression(C=5, class_weight=None, dual=False, fit_intercept=True,\n",
       "          intercept_scaling=1, max_iter=100, multi_class='ovr', n_jobs=1,\n",
       "          penalty='l2', random_state=None, solver='liblinear', tol=0.0001,\n",
       "          verbose=0, warm_start=False)"
      ]
     },
     "execution_count": 64,
     "metadata": {},
     "output_type": "execute_result"
    }
   ],
   "source": [
    "lr = LogisticRegression(C=5)\n",
    "lr.fit(x_train, y_train)"
   ]
  },
  {
   "cell_type": "code",
   "execution_count": 65,
   "metadata": {},
   "outputs": [
    {
     "data": {
      "text/plain": [
       "{'accuracy': 0.64733333333333332,\n",
       " 'log loss': 0.58811503069346938,\n",
       " 'precision': 0.38393645189761694,\n",
       " 'recall': 0.54716981132075471,\n",
       " 'roc auc': 0.7207486275067827}"
      ]
     },
     "execution_count": 65,
     "metadata": {},
     "output_type": "execute_result"
    }
   ],
   "source": [
    "get_scores(lr, x_test, y_test)"
   ]
  },
  {
   "cell_type": "code",
   "execution_count": 66,
   "metadata": {
    "collapsed": true
   },
   "outputs": [],
   "source": [
    "words = ' '.join(pd.concat([train['question1'], train['question2']], axis=0).tolist()).split()"
   ]
  },
  {
   "cell_type": "code",
   "execution_count": 67,
   "metadata": {
    "collapsed": true
   },
   "outputs": [],
   "source": [
    "from collections import defaultdict"
   ]
  },
  {
   "cell_type": "code",
   "execution_count": 68,
   "metadata": {
    "collapsed": true
   },
   "outputs": [],
   "source": [
    "word_counts = defaultdict(int)\n",
    "\n",
    "for word in words:\n",
    "    \n",
    "    word_counts[word] += 1"
   ]
  },
  {
   "cell_type": "code",
   "execution_count": 69,
   "metadata": {},
   "outputs": [
    {
     "data": {
      "text/plain": [
       "[('?', 760365),\n",
       " ('the', 377516),\n",
       " ('what', 324523),\n",
       " ('is', 269782),\n",
       " ('i', 224138),\n",
       " ('how', 220859),\n",
       " ('a', 212880),\n",
       " ('to', 205706),\n",
       " ('in', 197232),\n",
       " ('do', 161031)]"
      ]
     },
     "execution_count": 69,
     "metadata": {},
     "output_type": "execute_result"
    }
   ],
   "source": [
    "sorted(word_counts.items(), key=lambda x: x[1], reverse=True)[:10]"
   ]
  },
  {
   "cell_type": "code",
   "execution_count": 70,
   "metadata": {},
   "outputs": [
    {
     "data": {
      "text/plain": [
       "[('misspelling', 1),\n",
       " ('atmakarka', 1),\n",
       " ('mming', 1),\n",
       " ('formalising', 1),\n",
       " ('demagnetization', 1),\n",
       " ('xerophiles', 1),\n",
       " ('concisely', 1),\n",
       " ('usafa', 1),\n",
       " ('flared', 1),\n",
       " ('bill.', 1)]"
      ]
     },
     "execution_count": 70,
     "metadata": {},
     "output_type": "execute_result"
    }
   ],
   "source": [
    "sorted(word_counts.items(), key=lambda x: x[1])[:10]"
   ]
  },
  {
   "cell_type": "code",
   "execution_count": 71,
   "metadata": {},
   "outputs": [
    {
     "data": {
      "text/plain": [
       "88638"
      ]
     },
     "execution_count": 71,
     "metadata": {},
     "output_type": "execute_result"
    }
   ],
   "source": [
    "len(word_counts)"
   ]
  },
  {
   "cell_type": "code",
   "execution_count": 72,
   "metadata": {
    "collapsed": true
   },
   "outputs": [],
   "source": [
    "def gather_overall_ngram_counts(sentences, ngram_max=1):\n",
    "    \n",
    "    overall_count = defaultdict(int)\n",
    "    document_count = defaultdict(int)\n",
    "    \n",
    "    for sent in sentences:\n",
    "        sent = sent.split()\n",
    "        for n_gram in range(1, ngram_max+1):\n",
    "            ngrams = ['_'.join(sent[j:j+n_gram]) for j in range(len(sent) - n_gram +1)]\n",
    "\n",
    "            for ngram in ngrams:\n",
    "\n",
    "                overall_count[ngram] += 1\n",
    "\n",
    "            for ngram in set(ngrams):\n",
    "\n",
    "                document_count[ngram] += 1\n",
    "            \n",
    "    return overall_count, document_count"
   ]
  },
  {
   "cell_type": "code",
   "execution_count": 73,
   "metadata": {
    "collapsed": true
   },
   "outputs": [],
   "source": [
    "overall_count, document_count = gather_overall_ngram_counts(pd.concat([train['question1'], train['question2']], axis=0).tolist(),\n",
    "                                                           ngram_max=2)"
   ]
  },
  {
   "cell_type": "code",
   "execution_count": 74,
   "metadata": {},
   "outputs": [
    {
     "data": {
      "text/plain": [
       "[('?', 760365),\n",
       " ('the', 377516),\n",
       " ('what', 324523),\n",
       " ('is', 269782),\n",
       " ('i', 224138),\n",
       " ('how', 220859),\n",
       " ('a', 212880),\n",
       " ('to', 205706),\n",
       " ('in', 197232),\n",
       " ('do', 161031),\n",
       " ('of', 159768),\n",
       " ('are', 145865),\n",
       " ('and', 133817),\n",
       " ('can', 118014),\n",
       " ('what_is', 117493),\n",
       " ('for', 104462),\n",
       " ('is_the', 102540),\n",
       " ('what_are', 93498),\n",
       " ('you', 92849),\n",
       " ('why', 84049),\n",
       " ('how_do', 79229),\n",
       " ('my', 70961),\n",
       " ('it', 70953),\n",
       " ('best', 70558),\n",
       " ('can_i', 62874),\n",
       " ('the_best', 61349),\n",
       " ('on', 60739),\n",
       " ('do_i', 59252),\n",
       " ('does', 56362),\n",
       " ('are_the', 55264),\n",
       " ('how_can', 55055),\n",
       " ('s', 48336),\n",
       " ('or', 44731),\n",
       " ('which', 43964),\n",
       " ('be', 43805),\n",
       " ('if', 43784),\n",
       " ('some', 41682),\n",
       " ('have', 40874),\n",
       " ('that', 40638),\n",
       " ('with', 39705),\n",
       " ('get', 39533),\n",
       " ('should', 39031),\n",
       " ('an', 37072),\n",
       " ('from', 35244),\n",
       " ('are_some', 34236),\n",
       " ('your', 33935),\n",
       " ('do_you', 30359),\n",
       " ('india', 29408),\n",
       " ('will', 28226),\n",
       " ('is_it', 27265),\n",
       " ('in_the', 26966),\n",
       " ('people', 26369),\n",
       " ('when', 26208),\n",
       " ('who', 26092),\n",
       " ('like', 25638),\n",
       " ('at', 25263),\n",
       " ('of_the', 24999),\n",
       " ('good', 24841),\n",
       " ('should_i', 24023),\n",
       " ('t', 23779),\n",
       " ('there', 23638),\n",
       " ('would', 23626),\n",
       " ('as', 22676),\n",
       " ('about', 21142),\n",
       " ('not', 20429),\n",
       " ('between', 20292),\n",
       " ('one', 19983),\n",
       " ('why_do', 19427),\n",
       " ('most', 18985),\n",
       " ('we', 18531),\n",
       " ('i_get', 18429),\n",
       " ('make', 18203),\n",
       " ('quora', 18193),\n",
       " ('way', 18100),\n",
       " ('did', 17925),\n",
       " ('where', 17415),\n",
       " ('by', 17292),\n",
       " ('any', 16868),\n",
       " ('which_is', 16773),\n",
       " ('was', 16564),\n",
       " ('me', 16465),\n",
       " ('life', 16411),\n",
       " ('in_india', 16311),\n",
       " ('so', 15969),\n",
       " ('they', 15597),\n",
       " ('india_?', 15263),\n",
       " ('after', 15126),\n",
       " ('time', 15031),\n",
       " ('this', 14888),\n",
       " ('why_is', 14808),\n",
       " ('way_to', 14610),\n",
       " ('money', 14557),\n",
       " ('is_a', 14331),\n",
       " ('know', 13751),\n",
       " ('difference', 13376),\n",
       " ('has', 13304),\n",
       " ('the_most', 13107),\n",
       " ('learn', 13076),\n",
       " ('am', 12830),\n",
       " ('how_does', 12806),\n",
       " ('what_s', 12784),\n",
       " ('difference_between', 12651),\n",
       " ('for_a', 12501),\n",
       " ('new', 12431),\n",
       " ('in_a', 12390),\n",
       " ('use', 12368),\n",
       " ('much', 12350),\n",
       " ('someone', 12015),\n",
       " ('what_does', 11893),\n",
       " ('their', 11775),\n",
       " ('i_do', 11549),\n",
       " ('think', 11497),\n",
       " ('many', 11459),\n",
       " ('is_there', 11438),\n",
       " ('the_difference', 11301),\n",
       " ('work', 11239),\n",
       " ('all', 11159),\n",
       " ('what_should', 10792),\n",
       " ('indian', 10791),\n",
       " ('trump', 10766),\n",
       " ('what_do', 10707),\n",
       " ('than', 10623),\n",
       " ('ever', 10575),\n",
       " ('more', 10572),\n",
       " ('find', 10558),\n",
       " ('can_you', 10555),\n",
       " ('does_it', 10239),\n",
       " ('to_be', 10130),\n",
       " ('how_is', 10050),\n",
       " ('without', 10021),\n",
       " ('but', 9920),\n",
       " ('i_am', 9913),\n",
       " ('become', 9910),\n",
       " ('world', 9904),\n",
       " ('start', 9881),\n",
       " ('online', 9749),\n",
       " ('first', 9683),\n",
       " ('better', 9680),\n",
       " ('other', 9675),\n",
       " ('to_the', 9658),\n",
       " ('out', 9502),\n",
       " ('year', 9435),\n",
       " ('if_i', 9391),\n",
       " ('want', 9361),\n",
       " ('a_good', 9316),\n",
       " ('how_much', 9297),\n",
       " ('best_way', 9290),\n",
       " ('i_have', 9167),\n",
       " ('s_the', 8945),\n",
       " ('m', 8940),\n",
       " ('of_a', 8936),\n",
       " ('on_quora', 8890),\n",
       " ('where_can', 8796),\n",
       " ('mean', 8740),\n",
       " ('job', 8678),\n",
       " ('to_get', 8558),\n",
       " ('english', 8492),\n",
       " ('don', 8439),\n",
       " ('us', 8431),\n",
       " ('don_t', 8397),\n",
       " ('up', 8239),\n",
       " ('into', 8226),\n",
       " ('he', 8152),\n",
       " ('quora_?', 8142),\n",
       " ('and_how', 8142),\n",
       " ('feel', 8002),\n",
       " ('for_the', 7974),\n",
       " ('love', 7928),\n",
       " ('could', 7915),\n",
       " ('take', 7809),\n",
       " ('why_?', 7677),\n",
       " ('possible', 7675),\n",
       " ('day', 7656),\n",
       " ('why_does', 7520),\n",
       " ('want_to', 7487),\n",
       " ('how_many', 7390),\n",
       " ('there_any', 7378),\n",
       " ('life_?', 7329),\n",
       " ('things', 7278),\n",
       " ('questions', 7263),\n",
       " ('who_is', 7259),\n",
       " ('go', 7231),\n",
       " ('does_the', 7210),\n",
       " ('why_are', 7195),\n",
       " ('notes', 7148),\n",
       " ('phone', 7073),\n",
       " ('some_of', 7055),\n",
       " ('as_a', 7042),\n",
       " ('what_would', 7009),\n",
       " ('like_to', 6980),\n",
       " ('were', 6953),\n",
       " ('really', 6918),\n",
       " ('ways', 6914),\n",
       " ('buy', 6897),\n",
       " ('person', 6880),\n",
       " ('engineering', 6848),\n",
       " ('weight', 6844),\n",
       " ('account', 6835),\n",
       " ('used', 6794),\n",
       " ('is_your', 6766),\n",
       " ('donald', 6727),\n",
       " ('have_a', 6692),\n",
       " ('i_m', 6633),\n",
       " ('donald_trump', 6593),\n",
       " ('long', 6593),\n",
       " ('if_you', 6592),\n",
       " ('to_learn', 6559),\n",
       " ('google', 6523),\n",
       " ('them', 6495),\n",
       " ('girl', 6489),\n",
       " ('old', 6477),\n",
       " ('it_?', 6426),\n",
       " ('number', 6331),\n",
       " ('on_the', 6283),\n",
       " ('being', 6277),\n",
       " ('her', 6260),\n",
       " ('improve', 6223),\n",
       " ('do_people', 6210),\n",
       " ('using', 6158),\n",
       " ('you_think', 6103),\n",
       " ('his', 6062),\n",
       " ('get_a', 6016),\n",
       " ('need', 6013),\n",
       " ('business', 5988),\n",
       " ('facebook', 5986),\n",
       " ('books', 5968),\n",
       " ('i_find', 5936),\n",
       " ('are_there', 5915),\n",
       " ('you_have', 5873),\n",
       " ('stop', 5866),\n",
       " ('lose', 5855),\n",
       " ('language', 5854),\n",
       " ('sex', 5841),\n",
       " ('different', 5735),\n",
       " ('thing', 5724),\n",
       " ('black', 5713),\n",
       " ('the_world', 5668),\n",
       " ('been', 5630),\n",
       " ('and_why', 5580),\n",
       " ('do_?', 5574),\n",
       " ('book', 5563),\n",
       " ('free', 5537),\n",
       " ('how_did', 5495),\n",
       " ('see', 5489),\n",
       " ('now', 5489),\n",
       " ('ways_to', 5465),\n",
       " ('just', 5458),\n",
       " ('war', 5455),\n",
       " ('years', 5440),\n",
       " ('compare', 5415),\n",
       " ('question', 5384),\n",
       " ('no', 5381),\n",
       " ('movie', 5374),\n",
       " ('going', 5353),\n",
       " ('i_make', 5320),\n",
       " ('would_you', 5318),\n",
       " ('with_a', 5317),\n",
       " ('still', 5291),\n",
       " ('programming', 5283),\n",
       " ('it_like', 5193),\n",
       " ('be_the', 5152),\n",
       " ('had', 5131),\n",
       " ('only', 5109),\n",
       " ('instagram', 5109),\n",
       " ('president', 5091),\n",
       " ('change', 5065),\n",
       " ('its', 5029),\n",
       " ('company', 5025),\n",
       " ('happen', 5018),\n",
       " ('movies', 5018),\n",
       " ('help', 5012),\n",
       " ('women', 5003),\n",
       " ('before', 4998),\n",
       " ('can_we', 4979),\n",
       " ('i_want', 4973),\n",
       " ('app', 4965),\n",
       " ('she', 4941),\n",
       " ('how_should', 4897),\n",
       " ('it_possible', 4882),\n",
       " ('which_are', 4875),\n",
       " ('college', 4838),\n",
       " ('real', 4832),\n",
       " ('over', 4824),\n",
       " ('prepare', 4795),\n",
       " ('rs', 4790),\n",
       " ('was_the', 4780),\n",
       " ('under', 4764),\n",
       " ('android', 4730),\n",
       " ('clinton', 4707),\n",
       " ('examples', 4689),\n",
       " ('do_to', 4678),\n",
       " ('computer', 4663),\n",
       " ('country', 4614),\n",
       " ('live', 4602),\n",
       " ('be_a', 4589),\n",
       " ('while', 4573),\n",
       " ('website', 4562),\n",
       " ('back', 4558),\n",
       " ('iphone', 4557),\n",
       " ('ask', 4552),\n",
       " ('what_can', 4528),\n",
       " ('become_a', 4526),\n",
       " ('to_make', 4502),\n",
       " ('learning', 4501),\n",
       " ('why_did', 4495),\n",
       " ('b', 4483),\n",
       " ('what_will', 4482),\n",
       " ('some_good', 4472),\n",
       " ('data', 4469),\n",
       " ('important', 4449),\n",
       " ('bad', 4440),\n",
       " ('what_was', 4438),\n",
       " ('system', 4437),\n",
       " ('time_?', 4423),\n",
       " ('our', 4414),\n",
       " ('win', 4378),\n",
       " ('to_do', 4369),\n",
       " ('study', 4329),\n",
       " ('i_start', 4306),\n",
       " ('i_can', 4304),\n",
       " ('to_a', 4287),\n",
       " ('top', 4284),\n",
       " ('hillary', 4273),\n",
       " ('made', 4271),\n",
       " ('on_a', 4267),\n",
       " ('increase', 4251),\n",
       " ('through', 4233),\n",
       " ('same', 4214),\n",
       " ('school', 4212),\n",
       " ('read', 4187),\n",
       " ('science', 4179),\n",
       " ('c', 4177),\n",
       " ('compare_to', 4147),\n",
       " ('i_learn', 4134),\n",
       " ('two', 4091),\n",
       " ('on_my', 4069),\n",
       " ('software', 4054),\n",
       " ('does_a', 4048),\n",
       " ('possible_to', 4040),\n",
       " ('the_us', 4027),\n",
       " ('will_be', 4024),\n",
       " ('government', 4018),\n",
       " ('can_a', 4014),\n",
       " ('earn', 4000),\n",
       " ('during', 3982),\n",
       " ('water', 3977),\n",
       " ('card', 3975),\n",
       " ('can_t', 3952),\n",
       " ('improve_my', 3951),\n",
       " ('there_a', 3925),\n",
       " ('do_we', 3911),\n",
       " ('a_girl', 3910),\n",
       " ('prepare_for', 3894),\n",
       " ('men', 3869),\n",
       " ('mobile', 3851),\n",
       " ('and_what', 3843),\n",
       " ('high', 3840),\n",
       " ('student', 3821),\n",
       " ('online_?', 3816),\n",
       " ('say', 3806),\n",
       " ('car', 3801),\n",
       " ('exam', 3781),\n",
       " ('energy', 3753),\n",
       " ('name', 3738),\n",
       " ('give', 3722),\n",
       " ('word', 3720),\n",
       " ('anyone', 3715),\n",
       " ('university', 3712),\n",
       " ('hillary_clinton', 3675),\n",
       " ('getting', 3671),\n",
       " ('from_the', 3661),\n",
       " ('me_?', 3654),\n",
       " ('you_?', 3650),\n",
       " ('earth', 3649),\n",
       " ('how_long', 3605),\n",
       " ('com', 3563),\n",
       " ('companies', 3556),\n",
       " ('in_my', 3540),\n",
       " ('ve', 3536),\n",
       " ('who_are', 3524),\n",
       " ('is_better', 3517),\n",
       " ('to_have', 3514),\n",
       " ('true', 3513),\n",
       " ('china', 3502),\n",
       " ('would_be', 3502),\n",
       " ('make_money', 3500),\n",
       " ('right', 3491),\n",
       " ('work_?', 3490),\n",
       " ('the_same', 3486),\n",
       " ('average', 3466),\n",
       " ('days', 3450),\n",
       " ('home', 3442),\n",
       " ('laptop', 3422),\n",
       " ('doing', 3415),\n",
       " ('and_i', 3412),\n",
       " ('web', 3401),\n",
       " ('at_the', 3398),\n",
       " ('come', 3396),\n",
       " ('then', 3387),\n",
       " ('career', 3377),\n",
       " ('i_use', 3373),\n",
       " ('friend', 3367),\n",
       " ('money_?', 3366),\n",
       " ('k', 3364),\n",
       " ('examples_of', 3356),\n",
       " ('even', 3350),\n",
       " ('i_become', 3343),\n",
       " ('hair', 3340),\n",
       " ('tell', 3327),\n",
       " ('i_improve', 3305),\n",
       " ('look', 3303),\n",
       " ('interview', 3285),\n",
       " ('social', 3282),\n",
       " ('how_are', 3279),\n",
       " ('the_first', 3277),\n",
       " ('answer', 3263),\n",
       " ('own', 3258),\n",
       " ('video', 3254),\n",
       " ('th', 3251),\n",
       " ('travel', 3241),\n",
       " ('bank', 3239),\n",
       " ('him', 3238),\n",
       " ('and_a', 3214),\n",
       " ('write', 3208),\n",
       " ('friends', 3199),\n",
       " ('safe', 3197),\n",
       " ('u', 3196),\n",
       " ('usa', 3194),\n",
       " ('meaning', 3194),\n",
       " ('guy', 3190),\n",
       " ('man', 3188),\n",
       " ('world_?', 3171),\n",
       " ('your_life', 3168),\n",
       " ('watch', 3167),\n",
       " ('i_know', 3165),\n",
       " ('lose_weight', 3162),\n",
       " ('youtube', 3156),\n",
       " ('mean_?', 3155),\n",
       " ('need_to', 3152),\n",
       " ('and_the', 3148),\n",
       " ('students', 3134),\n",
       " ('is_best', 3117),\n",
       " ('i_stop', 3109),\n",
       " ('cost', 3107),\n",
       " ('when_i', 3106),\n",
       " ('of_my', 3106),\n",
       " ('password', 3098),\n",
       " ('how_would', 3098),\n",
       " ('non', 3097),\n",
       " ('doesn', 3096),\n",
       " ('doesn_t', 3095),\n",
       " ('pakistan', 3093),\n",
       " ('off', 3092),\n",
       " ('eat', 3084),\n",
       " ('done', 3081),\n",
       " ('working', 3070),\n",
       " ('how_will', 3068),\n",
       " ('rupee', 3067),\n",
       " ('relationship', 3051),\n",
       " ('place', 3041),\n",
       " ('happens', 3039),\n",
       " ('in_your', 3036),\n",
       " ('experience', 3032),\n",
       " ('how_to', 3027),\n",
       " ('food', 3023),\n",
       " ('girls', 3019),\n",
       " ('rid', 3014),\n",
       " ('tv', 3011),\n",
       " ('having', 3009),\n",
       " ('out_of', 3008),\n",
       " ('big', 3007),\n",
       " ('very', 3003),\n",
       " ('by_the', 3001),\n",
       " ('game', 2993),\n",
       " ('think_of', 2951),\n",
       " ('with_the', 2947),\n",
       " ('i_prepare', 2941),\n",
       " ('human', 2936),\n",
       " ('service', 2934),\n",
       " ('make_a', 2929),\n",
       " ('get_rid', 2928),\n",
       " ('whatsapp', 2925),\n",
       " ('mind', 2921),\n",
       " ('play', 2918),\n",
       " ('rid_of', 2917),\n",
       " ('when_you', 2907),\n",
       " ('them_?', 2902),\n",
       " ('countries', 2900),\n",
       " ('favorite', 2889),\n",
       " ('major', 2874),\n",
       " ('are_they', 2871),\n",
       " ('that_i', 2871),\n",
       " ('e', 2850),\n",
       " ('think_about', 2848),\n",
       " ('future', 2845),\n",
       " ('history', 2844),\n",
       " ('employees', 2839),\n",
       " ('can_be', 2836),\n",
       " ('do_the', 2823),\n",
       " ('if_a', 2805),\n",
       " ('affect', 2795),\n",
       " ('year_old', 2784),\n",
       " ('download', 2777),\n",
       " ('end', 2772),\n",
       " ('modi', 2769),\n",
       " ('to_buy', 2765),\n",
       " ('white', 2762),\n",
       " ('a_year', 2761),\n",
       " ('weight_?', 2751),\n",
       " ('engineer', 2751),\n",
       " ('some_examples', 2747),\n",
       " ('tech', 2747),\n",
       " ('going_to', 2745),\n",
       " ('for_an', 2744),\n",
       " ('state', 2744),\n",
       " ('believe', 2744),\n",
       " ('tips', 2733),\n",
       " ('g', 2733),\n",
       " ('process', 2731),\n",
       " ('great', 2730),\n",
       " ('too', 2722),\n",
       " ('skills', 2719),\n",
       " ('will_the', 2717),\n",
       " ('last', 2716),\n",
       " ('to_become', 2713),\n",
       " ('myself', 2710),\n",
       " ('election', 2706),\n",
       " ('effects', 2705),\n",
       " ('exist', 2703),\n",
       " ('every', 2701),\n",
       " ('meaning_of', 2691),\n",
       " ('body', 2691),\n",
       " ('age', 2691),\n",
       " ('email', 2681),\n",
       " ('support', 2679),\n",
       " ('test', 2677),\n",
       " ('you_get', 2674),\n",
       " ('java', 2671),\n",
       " ('from_a', 2668),\n",
       " ('against', 2667),\n",
       " ('next', 2663),\n",
       " ('to_start', 2661),\n",
       " ('chinese', 2655),\n",
       " ('a_person', 2653),\n",
       " ('x', 2652),\n",
       " ('marketing', 2650),\n",
       " ('what_happens', 2646),\n",
       " ('i_don', 2642),\n",
       " ('class', 2640),\n",
       " ('create', 2639),\n",
       " ('delhi', 2639),\n",
       " ('differences', 2632),\n",
       " ('god', 2625),\n",
       " ('i_buy', 2624),\n",
       " ('girlfriend', 2620),\n",
       " ('mechanical', 2616),\n",
       " ('month', 2612),\n",
       " ('internet', 2611),\n",
       " ('hard', 2611),\n",
       " ('it_is', 2611),\n",
       " ('places', 2610),\n",
       " ('account_?', 2603),\n",
       " ('makes', 2601),\n",
       " ('about_the', 2600),\n",
       " ('the_indian', 2591),\n",
       " ('interesting', 2590),\n",
       " ('you_do', 2590),\n",
       " ('have_to', 2583),\n",
       " ('states', 2578),\n",
       " ('got', 2571),\n",
       " ('did_you', 2570),\n",
       " ('that_you', 2570),\n",
       " ('making', 2565),\n",
       " ('american', 2562),\n",
       " ('for_my', 2560),\n",
       " ('police', 2560),\n",
       " ('music', 2549),\n",
       " ('visit', 2537),\n",
       " ('english_?', 2529),\n",
       " ('i_need', 2507),\n",
       " ('united', 2506),\n",
       " ('between_a', 2503),\n",
       " ('to_my', 2487),\n",
       " ('these', 2486),\n",
       " ('windows', 2480),\n",
       " ('d', 2479),\n",
       " ('happen_if', 2475),\n",
       " ('worth', 2469),\n",
       " ('like_?', 2467),\n",
       " ('power', 2467),\n",
       " ('pay', 2465),\n",
       " ('is_this', 2454),\n",
       " ('market', 2449),\n",
       " ('your_favorite', 2449),\n",
       " ('keep', 2447),\n",
       " ('did_the', 2447),\n",
       " ('are_your', 2441),\n",
       " ('never', 2441),\n",
       " ('know_if', 2422),\n",
       " ('for_?', 2422),\n",
       " ('song', 2418),\n",
       " ('salary', 2415),\n",
       " ('the_meaning', 2415),\n",
       " ('all_the', 2413),\n",
       " ('it_take', 2410),\n",
       " ('woman', 2401),\n",
       " ('around', 2395),\n",
       " ('it_mean', 2395),\n",
       " ('you_know', 2389),\n",
       " ('control', 2389),\n",
       " ('each', 2389),\n",
       " ('money_online', 2388),\n",
       " ('a_job', 2384),\n",
       " ('actually', 2381),\n",
       " ('do_they', 2380),\n",
       " ('re', 2365),\n",
       " ('america', 2356),\n",
       " ('black_money', 2349),\n",
       " ('do_if', 2345),\n",
       " ('course', 2339),\n",
       " ('culture', 2336),\n",
       " ('if_the', 2335),\n",
       " ('looking', 2335),\n",
       " ('gmail', 2332),\n",
       " ('code', 2329),\n",
       " ('answers', 2329),\n",
       " ('am_i', 2328),\n",
       " ('do_some', 2328),\n",
       " ('available', 2313),\n",
       " ('something', 2308),\n",
       " ('differences_between', 2307),\n",
       " ('fat', 2299),\n",
       " ('series', 2290),\n",
       " ('always', 2290),\n",
       " ('considered', 2288),\n",
       " ('of_your', 2287),\n",
       " ('not_?', 2283),\n",
       " ('so_many', 2280),\n",
       " ('today', 2269),\n",
       " ('why_can', 2267),\n",
       " ('feel_like', 2265),\n",
       " ('another', 2264),\n",
       " ('hotel', 2263),\n",
       " ('engineering_?', 2262),\n",
       " ('common', 2260),\n",
       " ('can_one', 2256),\n",
       " ('months', 2255),\n",
       " ('self', 2247),\n",
       " ('you_ve', 2245),\n",
       " ('economy', 2241),\n",
       " ('writing', 2240),\n",
       " ('best_ways', 2237),\n",
       " ('apply', 2235),\n",
       " ('delete', 2234),\n",
       " ('light', 2231),\n",
       " ('earn_money', 2231),\n",
       " ('universities', 2230),\n",
       " ('development', 2230),\n",
       " ('site', 2226),\n",
       " ('u_s', 2220),\n",
       " ('die', 2219),\n",
       " ('the_top', 2217),\n",
       " ('it_feel', 2216),\n",
       " ('jobs', 2204),\n",
       " ('questions_on', 2202),\n",
       " ('it_be', 2202),\n",
       " ('parents', 2201),\n",
       " ('notes_?', 2199),\n",
       " ('i_lose', 2198),\n",
       " ('to_lose', 2187),\n",
       " ('mba', 2186),\n",
       " ('rupee_notes', 2179),\n",
       " ('to_work', 2169),\n",
       " ('per', 2165),\n",
       " ('cat', 2150),\n",
       " ('open', 2146),\n",
       " ('i_be', 2144),\n",
       " ('happened', 2137),\n",
       " ('some_people', 2137),\n",
       " ('score', 2130),\n",
       " ('problem', 2128),\n",
       " ('idea', 2128),\n",
       " ('type', 2127),\n",
       " ('of_india', 2124),\n",
       " ('deal', 2123),\n",
       " ('services', 2117),\n",
       " ('such', 2116),\n",
       " ('universe', 2111),\n",
       " ('review', 2104),\n",
       " ('kind', 2102),\n",
       " ('some_things', 2096),\n",
       " ('speed', 2094),\n",
       " ('behind', 2090),\n",
       " ('build', 2088),\n",
       " ('dark', 2081),\n",
       " ('show', 2076),\n",
       " ('design', 2073),\n",
       " ('able', 2071),\n",
       " ('and_rupee', 2071),\n",
       " ('worst', 2067),\n",
       " ('hack', 2066),\n",
       " ('purpose', 2066),\n",
       " ('living', 2066),\n",
       " ('to_live', 2065),\n",
       " ('space', 2062),\n",
       " ('note', 2061),\n",
       " ('list', 2061),\n",
       " ('used_in', 2058),\n",
       " ('would_happen', 2051),\n",
       " ('songs', 2050),\n",
       " ('bangalore', 2049),\n",
       " ('is_an', 2048),\n",
       " ('post', 2043),\n",
       " ('education', 2040),\n",
       " ('were_the', 2037),\n",
       " ('near', 2036),\n",
       " ('well', 2024),\n",
       " ('period', 2024),\n",
       " ('games', 2018),\n",
       " ('because', 2014),\n",
       " ('seen', 2012),\n",
       " ('family', 2009),\n",
       " ('presidential', 2008),\n",
       " ('date', 2006),\n",
       " ('you_ever', 2005),\n",
       " ('differ', 2005),\n",
       " ('able_to', 2002),\n",
       " ('reduce', 2001),\n",
       " ('know_about', 2000),\n",
       " ('digital', 1999),\n",
       " ('in_love', 1999),\n",
       " ('run', 1998),\n",
       " ('popular', 1997),\n",
       " ('cause', 1997),\n",
       " ('it_s', 1996),\n",
       " ('reason', 1994),\n",
       " ('wrong', 1993),\n",
       " ('call', 1992),\n",
       " ('the_united', 1986),\n",
       " ('current', 1985),\n",
       " ('websites', 1985),\n",
       " ('law', 1984),\n",
       " ('private', 1984),\n",
       " ('what_were', 1982),\n",
       " ('to_use', 1980),\n",
       " ('civil', 1977),\n",
       " ('instead', 1977),\n",
       " ('asked', 1976),\n",
       " ('height', 1976),\n",
       " ('majors', 1973),\n",
       " ('kind_of', 1973),\n",
       " ('join', 1968),\n",
       " ('programming_language', 1967),\n",
       " ('technology', 1966),\n",
       " ('won', 1961),\n",
       " ('apple', 1954),\n",
       " ('people_?', 1954),\n",
       " ('management', 1952),\n",
       " ('when_they', 1951),\n",
       " ('ca', 1949),\n",
       " ('why_don', 1948),\n",
       " ('degree', 1943),\n",
       " ('air', 1940),\n",
       " ('number_?', 1938),\n",
       " ('program', 1936),\n",
       " ('easily', 1933),\n",
       " ('language_?', 1931),\n",
       " ('boyfriend', 1930),\n",
       " ('of_an', 1928),\n",
       " ('com_?', 1928),\n",
       " ('but_i', 1928),\n",
       " ('now_?', 1927),\n",
       " ('can_the', 1927),\n",
       " ('i_increase', 1923),\n",
       " ('apps', 1918),\n",
       " ('hate', 1916),\n",
       " ('would_it', 1915),\n",
       " ('international', 1913),\n",
       " ('order', 1912),\n",
       " ('traffic', 1912),\n",
       " ('the_word', 1909),\n",
       " ('you_are', 1906),\n",
       " ('sentence', 1906),\n",
       " ('united_states', 1903),\n",
       " ('world_war', 1902),\n",
       " ('facts', 1897),\n",
       " ('public', 1891),\n",
       " ('biggest', 1891),\n",
       " ('sleep', 1891),\n",
       " ('the_average', 1887),\n",
       " ('in_an', 1887),\n",
       " ('exam_?', 1885),\n",
       " ('stay', 1884),\n",
       " ('down', 1883),\n",
       " ('based', 1880),\n",
       " ('have_ever', 1878),\n",
       " ('will_i', 1876),\n",
       " ('main', 1874),\n",
       " ('pregnant', 1874),\n",
       " ('much_does', 1874),\n",
       " ('center', 1872),\n",
       " ('find_a', 1869),\n",
       " ('us_?', 1869),\n",
       " ('city', 1868),\n",
       " ('causes', 1867),\n",
       " ('is_not', 1866),\n",
       " ('search', 1864),\n",
       " ('canada', 1859),\n",
       " ('take_to', 1856),\n",
       " ('have_you', 1855),\n",
       " ('a_new', 1853),\n",
       " ('sex_?', 1853),\n",
       " ('visa', 1852),\n",
       " ('should_be', 1851),\n",
       " ('should_know', 1851),\n",
       " ('times', 1850),\n",
       " ('which_one', 1842),\n",
       " ('currency', 1838),\n",
       " ('ms', 1836),\n",
       " ('choose', 1835),\n",
       " ('sites', 1833),\n",
       " ('phone_?', 1833),\n",
       " ('iit', 1833),\n",
       " ('that_the', 1828),\n",
       " ('in_life', 1826),\n",
       " ('with_my', 1826),\n",
       " ('both', 1823),\n",
       " ('compared', 1822),\n",
       " ('indians', 1820),\n",
       " ('benefits', 1820),\n",
       " ('media', 1817),\n",
       " ('python', 1815),\n",
       " ('does_this', 1813),\n",
       " ('win_the', 1811),\n",
       " ('deal_with', 1811),\n",
       " ('add', 1805),\n",
       " ('less', 1805),\n",
       " ('gain', 1804),\n",
       " ('small', 1803),\n",
       " ('thing_you', 1803),\n",
       " ('also', 1800),\n",
       " ('death', 1799),\n",
       " ('s_?', 1798),\n",
       " ('child', 1793),\n",
       " ('drug', 1792),\n",
       " ('why_should', 1790),\n",
       " ('part', 1789),\n",
       " ('to_improve', 1787),\n",
       " ('recover', 1785),\n",
       " ('face', 1782),\n",
       " ('day_?', 1781),\n",
       " ('california', 1781),\n",
       " ('wear', 1777),\n",
       " ('machine', 1774),\n",
       " ('or_a', 1772),\n",
       " ('house', 1771),\n",
       " ('computer_science', 1771),\n",
       " ('to_visit', 1770),\n",
       " ('startup', 1768),\n",
       " ('if_so', 1768),\n",
       " ('what_makes', 1765),\n",
       " ('plan', 1763),\n",
       " ('start_a', 1761),\n",
       " ('successful', 1761),\n",
       " ('move', 1761),\n",
       " ('compared_to', 1757),\n",
       " ('this_?', 1753),\n",
       " ('does_one', 1751),\n",
       " ('fall', 1750),\n",
       " ('it_to', 1748),\n",
       " ('decision', 1748),\n",
       " ('battle', 1747),\n",
       " ('jee', 1746),\n",
       " ('fast', 1743),\n",
       " ('videos', 1739),\n",
       " ('instead_of', 1739),\n",
       " ('instagram_?', 1737),\n",
       " ('stock', 1736),\n",
       " ('products', 1736),\n",
       " ('story', 1733),\n",
       " ('ban', 1733),\n",
       " ('remove', 1731),\n",
       " ('foreign', 1730),\n",
       " ('terms', 1729),\n",
       " ('dog', 1728),\n",
       " ('legal', 1723),\n",
       " ('given', 1716),\n",
       " ('live_in', 1716),\n",
       " ('health', 1714),\n",
       " ('level', 1713),\n",
       " ('overcome', 1709),\n",
       " ('will_it', 1703),\n",
       " ('amazon', 1702),\n",
       " ('normal', 1701),\n",
       " ('movies_?', 1701),\n",
       " ('medical', 1700),\n",
       " ('the_new', 1700),\n",
       " ('your_review', 1697),\n",
       " ('found', 1697),\n",
       " ('humans', 1697),\n",
       " ('president_?', 1696),\n",
       " ('preparation', 1695),\n",
       " ('product', 1694),\n",
       " ('t_know', 1694),\n",
       " ('the_u', 1690),\n",
       " ('views', 1688),\n",
       " ('review_of', 1688),\n",
       " ('value', 1688),\n",
       " ('invest', 1686),\n",
       " ('am_a', 1685),\n",
       " ('a_guy', 1684),\n",
       " ('best_book', 1683),\n",
       " ('first_day', 1681),\n",
       " ('on_instagram', 1681),\n",
       " ('banning', 1679),\n",
       " ('are_good', 1662),\n",
       " ('created', 1662),\n",
       " ('point', 1661),\n",
       " ('profile', 1656),\n",
       " ('many_people', 1653),\n",
       " ('my_english', 1652),\n",
       " ('vote', 1652),\n",
       " ('their_first', 1652),\n",
       " ('project', 1652),\n",
       " ('didn', 1649),\n",
       " ('didn_t', 1648),\n",
       " ('form', 1647),\n",
       " ('i_feel', 1644),\n",
       " ('the_worst', 1644),\n",
       " ('called', 1639),\n",
       " ('to_you', 1638),\n",
       " ('ones', 1638),\n",
       " ('some_tips', 1632),\n",
       " ('the_differences', 1631),\n",
       " ('coaching', 1631),\n",
       " ('first_time', 1631),\n",
       " ('love_?', 1630),\n",
       " ('website_?', 1629),\n",
       " ('uk', 1629),\n",
       " ('rate', 1627),\n",
       " ('where_is', 1621),\n",
       " ('known', 1620),\n",
       " ('solar', 1620),\n",
       " ('has_the', 1620),\n",
       " ('trump_?', 1618),\n",
       " ('going_into', 1618),\n",
       " ('theory', 1615),\n",
       " ('about_?', 1614),\n",
       " ('snapchat', 1611),\n",
       " ('of_all', 1610),\n",
       " ('gate', 1609),\n",
       " ('what_kind', 1609),\n",
       " ('system_?', 1609),\n",
       " ('again', 1604),\n",
       " ('day_at', 1603),\n",
       " ('drive', 1603),\n",
       " ('easiest', 1602),\n",
       " ('to_study', 1600),\n",
       " ('a_better', 1598),\n",
       " ('research', 1598),\n",
       " ('into_their', 1598),\n",
       " ('ideas', 1596),\n",
       " ('alcohol', 1595),\n",
       " ('new_employees', 1592),\n",
       " ('speak', 1590),\n",
       " ('side', 1587),\n",
       " ('to_go', 1586),\n",
       " ('the_future', 1582),\n",
       " ('go_to', 1582),\n",
       " ('porn', 1580),\n",
       " ('grow', 1578),\n",
       " ('the_usa', 1577),\n",
       " ('are_you', 1577),\n",
       " ('the_next', 1576),\n",
       " ('physics', 1573),\n",
       " ('as_an', 1573),\n",
       " ('must', 1572),\n",
       " ('effect', 1572),\n",
       " ('hours', 1570),\n",
       " ('group', 1565),\n",
       " ('places_to', 1565),\n",
       " ('of_and', 1561),\n",
       " ('things_new', 1560),\n",
       " ('you_make', 1560),\n",
       " ('yourself', 1560),\n",
       " ('employees_should', 1559),\n",
       " ('get_into', 1559),\n",
       " ('know_going', 1559),\n",
       " ('when_will', 1557),\n",
       " ('send', 1551),\n",
       " ('matter', 1551),\n",
       " ('others', 1549),\n",
       " ('so_much', 1548),\n",
       " ('long_does', 1542),\n",
       " ('best_books', 1539),\n",
       " ('advice', 1537),\n",
       " ('week', 1535),\n",
       " ('credit', 1535),\n",
       " ('in_delhi', 1531),\n",
       " ('single', 1529),\n",
       " ...]"
      ]
     },
     "execution_count": 74,
     "metadata": {},
     "output_type": "execute_result"
    }
   ],
   "source": [
    "sorted(overall_count.items(), reverse=True, key=lambda x: x[1])"
   ]
  },
  {
   "cell_type": "code",
   "execution_count": 75,
   "metadata": {
    "collapsed": true
   },
   "outputs": [],
   "source": [
    "i = 0\n",
    "diffs = 0\n",
    "how_diff = []\n",
    "for k in overall_count.keys():\n",
    "    \n",
    "    diffs += int(overall_count[k] != document_count[k])\n",
    "    if int(overall_count[k] != document_count[k]):\n",
    "        how_diff.append(int(overall_count[k] - document_count[k]))\n",
    "    \n",
    "    "
   ]
  },
  {
   "cell_type": "code",
   "execution_count": 76,
   "metadata": {
    "scrolled": true
   },
   "outputs": [
    {
     "data": {
      "text/plain": [
       "TfidfVectorizer(analyzer='word', binary=False, decode_error='strict',\n",
       "        dtype=<class 'numpy.int64'>, encoding='utf-8', input='content',\n",
       "        lowercase=True, max_df=1.0, max_features=1024, min_df=1,\n",
       "        ngram_range=(1, 3), norm='l2', preprocessor=None, smooth_idf=True,\n",
       "        stop_words=None, strip_accents=None, sublinear_tf=False,\n",
       "        token_pattern='(?u)\\\\b\\\\w\\\\w+\\\\b', tokenizer=None, use_idf=True,\n",
       "        vocabulary=None)"
      ]
     },
     "execution_count": 76,
     "metadata": {},
     "output_type": "execute_result"
    }
   ],
   "source": [
    "vect = TfidfVectorizer(max_features=1024, ngram_range=(1,3))\n",
    "vect.fit(pd.concat([train['question1'], train['question2']], axis=0).tolist())"
   ]
  },
  {
   "cell_type": "code",
   "execution_count": 77,
   "metadata": {},
   "outputs": [
    {
     "data": {
      "text/plain": [
       "pandas.core.frame.DataFrame"
      ]
     },
     "execution_count": 77,
     "metadata": {},
     "output_type": "execute_result"
    }
   ],
   "source": [
    "type(train)"
   ]
  },
  {
   "cell_type": "code",
   "execution_count": 78,
   "metadata": {
    "collapsed": true
   },
   "outputs": [],
   "source": [
    "def get_tfidf_match(row, vect=vect):\n",
    "    \n",
    "    q1 = vect.transform([row['question1']])\n",
    "    q2 = vect.transform([row['question2']])\n",
    "    \n",
    "    nonzero1 = set(q1.nonzero()[1])\n",
    "    nonzero2 = set(q2.nonzero()[1])\n",
    "    \n",
    "    numerator = q1[0, list(nonzero1&nonzero2)].sum()\n",
    "    denominator = q1[0, list(nonzero1&nonzero2)].sum() + q2[0, list(nonzero2-nonzero1)].sum() + q1[0, list(nonzero1-nonzero2)].sum()\n",
    "    if denominator:\n",
    "        return numerator/denominator\n",
    "    else:\n",
    "        return 0"
   ]
  },
  {
   "cell_type": "code",
   "execution_count": 79,
   "metadata": {},
   "outputs": [
    {
     "data": {
      "text/plain": [
       "0.0"
      ]
     },
     "execution_count": 79,
     "metadata": {},
     "output_type": "execute_result"
    }
   ],
   "source": [
    "get_tfidf_match(train.ix[3])"
   ]
  },
  {
   "cell_type": "code",
   "execution_count": 80,
   "metadata": {
    "collapsed": true
   },
   "outputs": [],
   "source": [
    "from sklearn.base import TransformerMixin"
   ]
  },
  {
   "cell_type": "code",
   "execution_count": 81,
   "metadata": {
    "collapsed": true
   },
   "outputs": [],
   "source": [
    "class TfidfMatchScore(TransformerMixin):\n",
    "    \n",
    "    def __init__(self, vect, **kwargs):\n",
    "        self.vect = vect\n",
    "        self.matcher = partial(get_tfidf_match, vect=self.vect)\n",
    "\n",
    "    def fit(X, y=None):\n",
    "        assert isinstance(X, type(train))\n",
    "        \n",
    "        self.vect.fit(pd.concat([X['question1'], X['question2']], axis=0).tolist())\n",
    "        return self\n",
    "    \n",
    "    def fit_transform(X, y=None):\n",
    "        \n",
    "        self.fit(X, y)\n",
    "        return [self.matcher(X.ix[i]) for i in range(N)]\n",
    "    \n",
    "    def transform(self,X):\n",
    "        N = X.shape[0]\n",
    "        return [self.matcher(X.ix[i]) for i in range(N)]"
   ]
  },
  {
   "cell_type": "code",
   "execution_count": 82,
   "metadata": {
    "collapsed": true
   },
   "outputs": [],
   "source": [
    "matcher = TfidfMatchScore(vect=vect)"
   ]
  },
  {
   "cell_type": "code",
   "execution_count": 83,
   "metadata": {
    "collapsed": true,
    "scrolled": true
   },
   "outputs": [],
   "source": [
    "tfidf_scores = matcher.transform(train[:len(y_sample)])"
   ]
  },
  {
   "cell_type": "code",
   "execution_count": 84,
   "metadata": {
    "scrolled": true
   },
   "outputs": [
    {
     "data": {
      "image/png": "[encoded data removed]",
      "text/plain": [
       "<matplotlib.figure.Figure at 0x7f978bf1e278>"
      ]
     },
     "metadata": {},
     "output_type": "display_data"
    }
   ],
   "source": [
    "plot_histograms(np.asarray(tfidf_scores), y_sample, bins=100)\n",
    "plt.ylim(0, 200)\n",
    "plt.show()"
   ]
  },
  {
   "cell_type": "code",
   "execution_count": 85,
   "metadata": {
    "collapsed": true
   },
   "outputs": [],
   "source": [
    "unioned_train = np.concatenate([ngrams.data, subsets[:len(y_sample)].as_matrix().reshape(-1,1), np.expand_dims(np.asarray(tfidf_scores), axis=1)], axis=1)"
   ]
  },
  {
   "cell_type": "code",
   "execution_count": 86,
   "metadata": {
    "collapsed": true
   },
   "outputs": [],
   "source": [
    "x_train, x_test, y_train, y_test = train_test_split(unioned_train, np.asarray(y_sample), test_size=.3)"
   ]
  },
  {
   "cell_type": "code",
   "execution_count": 87,
   "metadata": {},
   "outputs": [
    {
     "data": {
      "text/plain": [
       "LogisticRegression(C=5, class_weight=None, dual=False, fit_intercept=True,\n",
       "          intercept_scaling=1, max_iter=100, multi_class='ovr', n_jobs=1,\n",
       "          penalty='l2', random_state=None, solver='liblinear', tol=0.0001,\n",
       "          verbose=0, warm_start=False)"
      ]
     },
     "execution_count": 87,
     "metadata": {},
     "output_type": "execute_result"
    }
   ],
   "source": [
    "lr = LogisticRegression(C=5)\n",
    "lr.fit(x_train, y_train)"
   ]
  },
  {
   "cell_type": "code",
   "execution_count": 88,
   "metadata": {},
   "outputs": [
    {
     "data": {
      "text/plain": [
       "{'accuracy': 0.65500000000000003,\n",
       " 'log loss': 0.57560434681592521,\n",
       " 'precision': 0.42934293429342935,\n",
       " 'recall': 0.5432801822323462,\n",
       " 'roc auc': 0.72743830762112749}"
      ]
     },
     "execution_count": 88,
     "metadata": {},
     "output_type": "execute_result"
    }
   ],
   "source": [
    "get_scores(lr, x_test, y_test)"
   ]
  },
  {
   "cell_type": "code",
   "execution_count": 89,
   "metadata": {
    "collapsed": true
   },
   "outputs": [],
   "source": [
    "from sklearn.ensemble import RandomForestClassifier"
   ]
  },
  {
   "cell_type": "code",
   "execution_count": 90,
   "metadata": {},
   "outputs": [
    {
     "data": {
      "text/plain": [
       "RandomForestClassifier(bootstrap=True, class_weight=None, criterion='gini',\n",
       "            max_depth=None, max_features='auto', max_leaf_nodes=None,\n",
       "            min_impurity_split=1e-07, min_samples_leaf=1,\n",
       "            min_samples_split=2, min_weight_fraction_leaf=0.0,\n",
       "            n_estimators=10, n_jobs=1, oob_score=False, random_state=None,\n",
       "            verbose=0, warm_start=False)"
      ]
     },
     "execution_count": 90,
     "metadata": {},
     "output_type": "execute_result"
    }
   ],
   "source": [
    "rfc = RandomForestClassifier()\n",
    "rfc.fit(x_train, y_train)"
   ]
  },
  {
   "cell_type": "code",
   "execution_count": 91,
   "metadata": {},
   "outputs": [
    {
     "data": {
      "text/plain": [
       "{'accuracy': 0.65600000000000003,\n",
       " 'log loss': 1.6271216250292639,\n",
       " 'precision': 0.44194419441944194,\n",
       " 'recall': 0.5437430786267996,\n",
       " 'roc auc': 0.70966617572291901}"
      ]
     },
     "execution_count": 91,
     "metadata": {},
     "output_type": "execute_result"
    }
   ],
   "source": [
    "get_scores(rfc, x_test, y_test)"
   ]
  },
  {
   "cell_type": "code",
   "execution_count": 92,
   "metadata": {
    "scrolled": true
   },
   "outputs": [
    {
     "name": "stderr",
     "output_type": "stream",
     "text": [
      "/usr/local/lib/python3.5/dist-packages/sklearn/metrics/classification.py:1115: UndefinedMetricWarning: Recall is ill-defined and being set to 0.0 due to no true samples.\n",
      "  'recall', 'true', average, warn_for)\n"
     ]
    },
    {
     "name": "stdout",
     "output_type": "stream",
     "text": [
      "0.65186559581\n",
      "0.633624064415\n",
      "0.627814783051\n",
      "0.607273728927\n",
      "0.582404271498\n",
      "0.576433859157\n",
      "0.575917671589\n",
      "0.575736442697\n",
      "0.575651229036\n",
      "0.575604346816\n",
      "0.575575805715\n",
      "0.575555631519\n",
      "0.57554277274\n",
      "0.575533531611\n"
     ]
    }
   ],
   "source": [
    "for c in [1e-5, 1e-4, 1e-3, 1e-2, 1e-1] + list(range(1,10)):\n",
    "    \n",
    "    lr = LogisticRegression(C=c)\n",
    "    lr.fit(x_train, y_train)\n",
    "    print(get_scores(lr, x_test, y_test)['log loss'])"
   ]
  },
  {
   "cell_type": "code",
   "execution_count": 93,
   "metadata": {
    "collapsed": true
   },
   "outputs": [],
   "source": [
    "from sklearn.feature_extraction.text import CountVectorizer"
   ]
  },
  {
   "cell_type": "code",
   "execution_count": 94,
   "metadata": {
    "collapsed": true
   },
   "outputs": [],
   "source": [
    "BinaryVectorizer = partial(CountVectorizer, binary=True)"
   ]
  },
  {
   "cell_type": "code",
   "execution_count": 95,
   "metadata": {
    "collapsed": true
   },
   "outputs": [],
   "source": [
    "count_vect = CountVectorizer(max_features=1024, ngram_range=(1,3))"
   ]
  },
  {
   "cell_type": "code",
   "execution_count": 96,
   "metadata": {},
   "outputs": [
    {
     "data": {
      "text/plain": [
       "CountVectorizer(analyzer='word', binary=False, decode_error='strict',\n",
       "        dtype=<class 'numpy.int64'>, encoding='utf-8', input='content',\n",
       "        lowercase=True, max_df=1.0, max_features=1024, min_df=1,\n",
       "        ngram_range=(1, 3), preprocessor=None, stop_words=None,\n",
       "        strip_accents=None, token_pattern='(?u)\\\\b\\\\w\\\\w+\\\\b',\n",
       "        tokenizer=None, vocabulary=None)"
      ]
     },
     "execution_count": 96,
     "metadata": {},
     "output_type": "execute_result"
    }
   ],
   "source": [
    "count_vect.fit(pd.concat([train['question1'], train['question2']], axis=0).tolist())"
   ]
  },
  {
   "cell_type": "code",
   "execution_count": 97,
   "metadata": {},
   "outputs": [
    {
     "data": {
      "text/plain": [
       "CountVectorizer(analyzer='word', binary=True, decode_error='strict',\n",
       "        dtype=<class 'numpy.int64'>, encoding='utf-8', input='content',\n",
       "        lowercase=True, max_df=1.0, max_features=1024, min_df=1,\n",
       "        ngram_range=(1, 3), preprocessor=None, stop_words=None,\n",
       "        strip_accents=None, token_pattern='(?u)\\\\b\\\\w\\\\w+\\\\b',\n",
       "        tokenizer=None, vocabulary=None)"
      ]
     },
     "execution_count": 97,
     "metadata": {},
     "output_type": "execute_result"
    }
   ],
   "source": [
    "bin_vect = BinaryVectorizer(max_features=1024, ngram_range=(1,3))\n",
    "bin_vect.fit(pd.concat([train['question1'], train['question2']], axis=0).tolist())"
   ]
  },
  {
   "cell_type": "code",
   "execution_count": 98,
   "metadata": {
    "collapsed": true
   },
   "outputs": [],
   "source": [
    "from sklearn.pipeline import make_union"
   ]
  },
  {
   "cell_type": "code",
   "execution_count": 99,
   "metadata": {
    "collapsed": true
   },
   "outputs": [],
   "source": [
    "count_matcher = TfidfMatchScore(vect=count_vect).transform(train[:len(y_sample)])"
   ]
  },
  {
   "cell_type": "code",
   "execution_count": 100,
   "metadata": {
    "collapsed": true
   },
   "outputs": [],
   "source": [
    "bin_macher = TfidfMatchScore(vect=bin_vect).transform(train[:len(y_sample)])"
   ]
  },
  {
   "cell_type": "code",
   "execution_count": 101,
   "metadata": {},
   "outputs": [
    {
     "data": {
      "image/png": "[encoded data removed]",
      "text/plain": [
       "<matplotlib.figure.Figure at 0x7f97d9577278>"
      ]
     },
     "metadata": {},
     "output_type": "display_data"
    }
   ],
   "source": [
    "plot_histograms(np.asarray(count_matcher), y_sample, bins=100)\n",
    "plt.ylim(0, 200)\n",
    "plt.show()"
   ]
  },
  {
   "cell_type": "code",
   "execution_count": 102,
   "metadata": {},
   "outputs": [
    {
     "data": {
      "image/png": "[encoded data removed]",
      "text/plain": [
       "<matplotlib.figure.Figure at 0x7f978f8807f0>"
      ]
     },
     "metadata": {},
     "output_type": "display_data"
    }
   ],
   "source": [
    "plot_histograms(np.asarray(bin_macher), y_sample, bins=100)\n",
    "plt.ylim(0, 200)\n",
    "plt.show()"
   ]
  },
  {
   "cell_type": "code",
   "execution_count": 103,
   "metadata": {
    "collapsed": true
   },
   "outputs": [],
   "source": [
    "def merge_features(*args):\n",
    "    \n",
    "    return np.concatenate([x if isinstance(x, np.ndarray) else np.asarray(x).reshape(-1,1) for x in args], axis=1)"
   ]
  },
  {
   "cell_type": "code",
   "execution_count": 104,
   "metadata": {
    "collapsed": true
   },
   "outputs": [],
   "source": [
    "unioned = merge_features(unioned_train, count_matcher, bin_macher)"
   ]
  },
  {
   "cell_type": "code",
   "execution_count": 105,
   "metadata": {
    "collapsed": true
   },
   "outputs": [],
   "source": [
    "x_train, x_test, y_train, y_test = train_test_split(unioned, np.asarray(y_sample), test_size=.3)"
   ]
  },
  {
   "cell_type": "code",
   "execution_count": 106,
   "metadata": {},
   "outputs": [
    {
     "data": {
      "text/plain": [
       "LogisticRegression(C=5, class_weight=None, dual=False, fit_intercept=True,\n",
       "          intercept_scaling=1, max_iter=100, multi_class='ovr', n_jobs=1,\n",
       "          penalty='l2', random_state=None, solver='liblinear', tol=0.0001,\n",
       "          verbose=0, warm_start=False)"
      ]
     },
     "execution_count": 106,
     "metadata": {},
     "output_type": "execute_result"
    }
   ],
   "source": [
    "lr = LogisticRegression(C=5)\n",
    "lr.fit(x_train, y_train)"
   ]
  },
  {
   "cell_type": "code",
   "execution_count": 107,
   "metadata": {},
   "outputs": [
    {
     "data": {
      "text/plain": [
       "{'accuracy': 0.65733333333333333,\n",
       " 'log loss': 0.57369729206171227,\n",
       " 'precision': 0.4654708520179372,\n",
       " 'recall': 0.5457413249211357,\n",
       " 'roc auc': 0.72952409273114383}"
      ]
     },
     "execution_count": 107,
     "metadata": {},
     "output_type": "execute_result"
    }
   ],
   "source": [
    "get_scores(lr, x_test, y_test)"
   ]
  },
  {
   "cell_type": "code",
   "execution_count": 108,
   "metadata": {
    "collapsed": true
   },
   "outputs": [],
   "source": [
    "from sklearn.model_selection import cross_val_score"
   ]
  },
  {
   "cell_type": "code",
   "execution_count": 109,
   "metadata": {
    "scrolled": false
   },
   "outputs": [
    {
     "data": {
      "text/plain": [
       "-0.57385550748232439"
      ]
     },
     "execution_count": 109,
     "metadata": {},
     "output_type": "execute_result"
    }
   ],
   "source": [
    "cross_val_score(lr, unioned_train, np.asarray(y_sample), cv=10, scoring='neg_log_loss').mean()"
   ]
  },
  {
   "cell_type": "code",
   "execution_count": 110,
   "metadata": {
    "collapsed": true
   },
   "outputs": [],
   "source": [
    "from sklearn.preprocessing import PolynomialFeatures, scale"
   ]
  },
  {
   "cell_type": "code",
   "execution_count": 111,
   "metadata": {
    "collapsed": true
   },
   "outputs": [],
   "source": [
    "poly = PolynomialFeatures(interaction_only=True, degree=3)"
   ]
  },
  {
   "cell_type": "code",
   "execution_count": 112,
   "metadata": {
    "collapsed": true
   },
   "outputs": [],
   "source": [
    "poly_unioned_train = poly.fit_transform(unioned_train)"
   ]
  },
  {
   "cell_type": "code",
   "execution_count": 113,
   "metadata": {
    "collapsed": true
   },
   "outputs": [],
   "source": [
    "poly_scaled = (poly_unioned_train - np.mean(poly_unioned_train, axis=0))/(1e-3 + np.std(poly_unioned_train, axis=0))"
   ]
  },
  {
   "cell_type": "code",
   "execution_count": 114,
   "metadata": {
    "scrolled": true
   },
   "outputs": [
    {
     "data": {
      "text/plain": [
       "array([-0.54526922, -0.52684252, -0.57339716, -0.54758956, -0.54656113,\n",
       "       -0.55058289, -0.53869687, -0.55191991, -0.55000808, -0.53977379])"
      ]
     },
     "execution_count": 114,
     "metadata": {},
     "output_type": "execute_result"
    }
   ],
   "source": [
    "cross_val_score(lr, poly_scaled, np.asarray(y_sample), cv=10, scoring='neg_log_loss')"
   ]
  },
  {
   "cell_type": "code",
   "execution_count": 115,
   "metadata": {
    "collapsed": true
   },
   "outputs": [],
   "source": [
    "from sklearn.neural_network import MLPClassifier"
   ]
  },
  {
   "cell_type": "code",
   "execution_count": 116,
   "metadata": {
    "collapsed": true
   },
   "outputs": [],
   "source": [
    "import hyperopt\n",
    "from hyperopt import fmin, Trials, tpe, STATUS_OK, hp"
   ]
  },
  {
   "cell_type": "code",
   "execution_count": 117,
   "metadata": {
    "scrolled": true
   },
   "outputs": [
    {
     "data": {
      "text/plain": [
       "-0.55151371310899755"
      ]
     },
     "execution_count": 117,
     "metadata": {},
     "output_type": "execute_result"
    }
   ],
   "source": [
    "mlp = MLPClassifier()\n",
    "cross_val_score(mlp, unioned_train, np.asarray(y_sample), cv=10, scoring='neg_log_loss').mean()"
   ]
  },
  {
   "cell_type": "code",
   "execution_count": 118,
   "metadata": {},
   "outputs": [
    {
     "data": {
      "text/plain": [
       "-0.54814450009785198"
      ]
     },
     "execution_count": 118,
     "metadata": {},
     "output_type": "execute_result"
    }
   ],
   "source": [
    "mlp = MLPClassifier()\n",
    "cross_val_score(mlp, unioned, np.asarray(y_sample), cv=10, scoring='neg_log_loss').mean()"
   ]
  },
  {
   "cell_type": "code",
   "execution_count": 119,
   "metadata": {
    "collapsed": true,
    "scrolled": true
   },
   "outputs": [],
   "source": [
    "space4rfc = {\n",
    "    'n_estimators': hp.choice('n_estimators', range(10,50)),\n",
    "    'criterion': hp.choice('criterion', ['gini', 'entropy']),\n",
    "    'max_depth': hp.choice('max_depth', [None] + list(range(10, 30))),\n",
    "    'bootstrap': hp.choice('bootstrap', [True, False]),\n",
    "    'class_weight': hp.choice('class_weight', [None, 'balanced']),\n",
    "    'min_samples_split': hp.choice('min_samples_split', range(2,5)),\n",
    "    'max_leaf_nodes': hp.choice('max_leaf_nodes', [None] + list(range(10, 30)))\n",
    "}\n",
    "\n",
    "#disclaimer - I know absolutely nothing about optimizing random forests, so these values are pulled straight from \n",
    "#my baseball cap\n",
    "\n",
    "def objective(params):\n",
    "    \n",
    "    rfc = RandomForestClassifier(**params)\n",
    "    return {'loss': -cross_val_score(rfc, unioned, np.asarray(y_sample), cv=10, scoring='neg_log_loss').mean(),\n",
    "           'status': STATUS_OK}\n",
    "\n",
    "trials = Trials()\n",
    "best = fmin(objective, space4rfc, algo=tpe.suggest, max_evals=10, trials=trials)"
   ]
  },
  {
   "cell_type": "code",
   "execution_count": 120,
   "metadata": {},
   "outputs": [
    {
     "name": "stdout",
     "output_type": "stream",
     "text": [
      "0.5469628163440451\n",
      "0.5738075684510394\n",
      "0.5743840119816007\n",
      "0.5787063056683355\n",
      "0.5478143813084341\n",
      "0.5741316314775536\n",
      "0.5459069862022813\n",
      "0.5513210826454888\n",
      "0.5505090258505811\n",
      "0.5519297374177738\n"
     ]
    }
   ],
   "source": [
    "for t in trials:\n",
    "    print(t['result']['loss'])"
   ]
  },
  {
   "cell_type": "code",
   "execution_count": 121,
   "metadata": {
    "collapsed": true
   },
   "outputs": [],
   "source": [
    "non_ascii = re.compile(r'[^A-Za-z0-9 ]')"
   ]
  },
  {
   "cell_type": "code",
   "execution_count": 122,
   "metadata": {
    "collapsed": true
   },
   "outputs": [],
   "source": [
    "countries = ['usa', 'china', 'europe', 'united states', 'america', 'mexico', 'india', 'hindi',\n",
    "            'chinese', 'european', 'american', 'mexican', 'spain', 'italy', 'russia', 'italian',\n",
    "            'great britain', 'british']"
   ]
  },
  {
   "cell_type": "code",
   "execution_count": 123,
   "metadata": {
    "collapsed": true
   },
   "outputs": [],
   "source": [
    "def get_lengths_info(row, stop_words=[]):\n",
    "    \n",
    "    if len(stop_words):\n",
    "        \n",
    "        row['question1'] = [x for x in row['question1'] if x not in stop_words]\n",
    "        row['question2'] = [x for x in row['question2'] if x not in stop_words]\n",
    "    \n",
    "    l1 = len(row['question1'])\n",
    "    l2 = len(row['question2'])\n",
    "    \n",
    "    word_length_1 = list(map(len, row['question1'].split()))\n",
    "    word_length_2 = list(map(len, row['question2'].split()))\n",
    "    \n",
    "    avg_word_length_1 = np.mean(word_length_1)\n",
    "    avg_word_length_2 = np.mean(word_length_2)\n",
    "    \n",
    "    median_wl_1 = np.median(word_length_1)\n",
    "    median_wl_2 = np.median(word_length_2)\n",
    "    \n",
    "    uniq_l1, uniq_cnt_l1 = np.unique(word_length_1, return_counts=True)\n",
    "    uniq_l2, uniq_cnt_l2 = np.unique(word_length_2, return_counts=True)\n",
    "    \n",
    "    var_word_length_1 = np.var(word_length_1)\n",
    "    var_word_length_2 = np.var(word_length_2)\n",
    "    \n",
    "    return [l1, l2, np.log(l1), np.log(l2), avg_word_length_1, avg_word_length_2, \n",
    "            abs(avg_word_length_1-avg_word_length_2), abs(median_wl_1-median_wl_2),\n",
    "            abs(var_word_length_1-var_word_length_2), abs(l1-l2),\n",
    "            abs(np.log(l1)-np.log(l2))]"
   ]
  },
  {
   "cell_type": "code",
   "execution_count": 124,
   "metadata": {
    "collapsed": true
   },
   "outputs": [],
   "source": [
    "def get_specific_info(row):\n",
    "    \n",
    "    #kraj, matma, może znaki interpunkcyjne w środku\n",
    "    \n",
    "    math = 1 if '[math]' in row['question1'] and '[math]' in row['question2'] else 0\n",
    "    que_1 = row['question1'].count('?')\n",
    "    que_2 = row['question2'].count('?')\n",
    "    \n",
    "    non_as_1 = len(non_ascii.findall(row['question1']))\n",
    "    non_as_2 = len(non_ascii.findall(row['question2']))\n",
    "    \n",
    "    return [math, que_1, que_2, non_as_1, non_as_2]"
   ]
  },
  {
   "cell_type": "code",
   "execution_count": 125,
   "metadata": {
    "collapsed": true
   },
   "outputs": [],
   "source": [
    "def calculate_tfidf_cosine(row, vect=vect):\n",
    "    \n",
    "    q1 = vect.transform([row['question1']])\n",
    "    q2 = vect.transform([row['question2']])\n",
    "\n",
    "    return q1.dot(q2.T).toarray().flatten()[0]\n"
   ]
  },
  {
   "cell_type": "code",
   "execution_count": 126,
   "metadata": {
    "collapsed": true
   },
   "outputs": [],
   "source": [
    "tfidf_cosines = train.ix[:len(y_sample)-1].apply(calculate_tfidf_cosine, axis=1).as_matrix()"
   ]
  },
  {
   "cell_type": "code",
   "execution_count": 127,
   "metadata": {},
   "outputs": [
    {
     "data": {
      "image/png": "[encoded data removed]",
      "text/plain": [
       "<matplotlib.figure.Figure at 0x7f979f0cfeb8>"
      ]
     },
     "metadata": {},
     "output_type": "display_data"
    }
   ],
   "source": [
    "plot_histograms(tfidf_cosines, y_sample, bins=100)\n",
    "plt.ylim(0, 200)\n",
    "plt.show()"
   ]
  },
  {
   "cell_type": "markdown",
   "metadata": {},
   "source": [
    "It's more informative in regions other than former tf-idf score"
   ]
  },
  {
   "cell_type": "code",
   "execution_count": 128,
   "metadata": {
    "collapsed": true
   },
   "outputs": [],
   "source": [
    "lengths_info = train.ix[:len(y_sample)-1].apply(get_lengths_info, axis=1).as_matrix()"
   ]
  },
  {
   "cell_type": "code",
   "execution_count": 129,
   "metadata": {
    "collapsed": true
   },
   "outputs": [],
   "source": [
    "lengths_info = pd.DataFrame(np.vstack(lengths_info), columns=['l1', 'l2', 'log_l1', 'log_l2', 'avg1', 'avg2',\n",
    "                                                             'diff avg', 'diff median', 'diff var', 'diff len',\n",
    "                                                             'diff log len'])"
   ]
  },
  {
   "cell_type": "code",
   "execution_count": 130,
   "metadata": {},
   "outputs": [
    {
     "data": {
      "text/html": [
       "<div>\n",
       "<table border=\"1\" class=\"dataframe\">\n",
       "  <thead>\n",
       "    <tr style=\"text-align: right;\">\n",
       "      <th></th>\n",
       "      <th>l1</th>\n",
       "      <th>l2</th>\n",
       "      <th>log_l1</th>\n",
       "      <th>log_l2</th>\n",
       "      <th>avg1</th>\n",
       "      <th>avg2</th>\n",
       "      <th>diff avg</th>\n",
       "      <th>diff median</th>\n",
       "      <th>diff var</th>\n",
       "      <th>diff len</th>\n",
       "      <th>diff log len</th>\n",
       "    </tr>\n",
       "  </thead>\n",
       "  <tbody>\n",
       "    <tr>\n",
       "      <th>0</th>\n",
       "      <td>67.0</td>\n",
       "      <td>58.0</td>\n",
       "      <td>4.204693</td>\n",
       "      <td>4.060443</td>\n",
       "      <td>3.533333</td>\n",
       "      <td>3.538462</td>\n",
       "      <td>0.005128</td>\n",
       "      <td>0.0</td>\n",
       "      <td>0.040657</td>\n",
       "      <td>9.0</td>\n",
       "      <td>0.144250</td>\n",
       "    </tr>\n",
       "    <tr>\n",
       "      <th>1</th>\n",
       "      <td>50.0</td>\n",
       "      <td>87.0</td>\n",
       "      <td>3.912023</td>\n",
       "      <td>4.465908</td>\n",
       "      <td>3.636364</td>\n",
       "      <td>4.500000</td>\n",
       "      <td>0.863636</td>\n",
       "      <td>1.0</td>\n",
       "      <td>0.973140</td>\n",
       "      <td>37.0</td>\n",
       "      <td>0.553885</td>\n",
       "    </tr>\n",
       "    <tr>\n",
       "      <th>2</th>\n",
       "      <td>74.0</td>\n",
       "      <td>60.0</td>\n",
       "      <td>4.304065</td>\n",
       "      <td>4.094345</td>\n",
       "      <td>4.000000</td>\n",
       "      <td>4.545455</td>\n",
       "      <td>0.545455</td>\n",
       "      <td>0.0</td>\n",
       "      <td>0.358127</td>\n",
       "      <td>14.0</td>\n",
       "      <td>0.209721</td>\n",
       "    </tr>\n",
       "    <tr>\n",
       "      <th>3</th>\n",
       "      <td>50.0</td>\n",
       "      <td>45.0</td>\n",
       "      <td>3.912023</td>\n",
       "      <td>3.806662</td>\n",
       "      <td>3.250000</td>\n",
       "      <td>4.625000</td>\n",
       "      <td>1.375000</td>\n",
       "      <td>1.0</td>\n",
       "      <td>1.130208</td>\n",
       "      <td>5.0</td>\n",
       "      <td>0.105361</td>\n",
       "    </tr>\n",
       "    <tr>\n",
       "      <th>4</th>\n",
       "      <td>75.0</td>\n",
       "      <td>40.0</td>\n",
       "      <td>4.317488</td>\n",
       "      <td>3.688879</td>\n",
       "      <td>4.428571</td>\n",
       "      <td>4.125000</td>\n",
       "      <td>0.303571</td>\n",
       "      <td>0.5</td>\n",
       "      <td>0.706952</td>\n",
       "      <td>35.0</td>\n",
       "      <td>0.628609</td>\n",
       "    </tr>\n",
       "  </tbody>\n",
       "</table>\n",
       "</div>"
      ],
      "text/plain": [
       "     l1    l2    log_l1    log_l2      avg1      avg2  diff avg  diff median  \\\n",
       "0  67.0  58.0  4.204693  4.060443  3.533333  3.538462  0.005128          0.0   \n",
       "1  50.0  87.0  3.912023  4.465908  3.636364  4.500000  0.863636          1.0   \n",
       "2  74.0  60.0  4.304065  4.094345  4.000000  4.545455  0.545455          0.0   \n",
       "3  50.0  45.0  3.912023  3.806662  3.250000  4.625000  1.375000          1.0   \n",
       "4  75.0  40.0  4.317488  3.688879  4.428571  4.125000  0.303571          0.5   \n",
       "\n",
       "   diff var  diff len  diff log len  \n",
       "0  0.040657       9.0      0.144250  \n",
       "1  0.973140      37.0      0.553885  \n",
       "2  0.358127      14.0      0.209721  \n",
       "3  1.130208       5.0      0.105361  \n",
       "4  0.706952      35.0      0.628609  "
      ]
     },
     "execution_count": 130,
     "metadata": {},
     "output_type": "execute_result"
    }
   ],
   "source": [
    "lengths_info.head()"
   ]
  },
  {
   "cell_type": "code",
   "execution_count": 131,
   "metadata": {},
   "outputs": [
    {
     "data": {
      "image/png": "[encoded data removed]",
      "text/plain": [
       "<matplotlib.figure.Figure at 0x7f979f56b358>"
      ]
     },
     "metadata": {},
     "output_type": "display_data"
    }
   ],
   "source": [
    "plot_histograms(lengths_info['diff var'].as_matrix(), y_sample, bins=100)\n",
    "plt.show()"
   ]
  },
  {
   "cell_type": "code",
   "execution_count": 132,
   "metadata": {},
   "outputs": [],
   "source": [
    "raw_train = pd.read_csv('train.csv')"
   ]
  },
  {
   "cell_type": "code",
   "execution_count": 133,
   "metadata": {
    "collapsed": true
   },
   "outputs": [],
   "source": [
    "punct_info = raw_train.ix[:len(y_sample)-1].apply(get_specific_info, axis=1).as_matrix()"
   ]
  },
  {
   "cell_type": "code",
   "execution_count": 134,
   "metadata": {
    "collapsed": true
   },
   "outputs": [],
   "source": [
    "punct_df = pd.DataFrame(np.vstack(punct_info), columns=['math', 'question 1', 'question 2', 'non ascii 1', 'non ascii 2'])"
   ]
  },
  {
   "cell_type": "code",
   "execution_count": 135,
   "metadata": {},
   "outputs": [
    {
     "data": {
      "image/png": "[encoded data removed]",
      "text/plain": [
       "<matplotlib.figure.Figure at 0x7f976b51a5f8>"
      ]
     },
     "metadata": {},
     "output_type": "display_data"
    }
   ],
   "source": [
    "plot_histograms(np.abs(punct_df['non ascii 1']-punct_df['non ascii 2']), y_sample)\n",
    "plt.show()"
   ]
  },
  {
   "cell_type": "code",
   "execution_count": 136,
   "metadata": {},
   "outputs": [
    {
     "data": {
      "image/png": "[encoded data removed]",
      "text/plain": [
       "<matplotlib.figure.Figure at 0x7f978f90d780>"
      ]
     },
     "metadata": {},
     "output_type": "display_data"
    }
   ],
   "source": [
    "plot_histograms(punct_df['math'], y_sample, bins=100)\n",
    "plt.show()"
   ]
  },
  {
   "cell_type": "code",
   "execution_count": 137,
   "metadata": {},
   "outputs": [
    {
     "data": {
      "text/plain": [
       "(array([ 362,  764, 1275, 2712, 3762, 7466, 8663]),)"
      ]
     },
     "execution_count": 137,
     "metadata": {},
     "output_type": "execute_result"
    }
   ],
   "source": [
    "np.where(raw_train.ix[:len(y_sample)].apply(lambda x: 1 if '[math]' in x['question1'] and '[math]' in x['question2'] else 0, axis=1).as_matrix())"
   ]
  },
  {
   "cell_type": "code",
   "execution_count": 138,
   "metadata": {},
   "outputs": [
    {
     "data": {
      "text/plain": [
       "['What is [math]x[/math] if [math]x+\\\\left(\\\\dfrac{1}{x}\\\\right) =0[/math]?',\n",
       " 'What is [math]\\\\mathop {\\\\lim}\\\\limits_{x \\\\to 0^+}\\\\frac{1}{x}^\\\\frac{-x}{x+1}[/math]?']"
      ]
     },
     "execution_count": 138,
     "metadata": {},
     "output_type": "execute_result"
    }
   ],
   "source": [
    "raw_train.ix[764, ['question1', 'question2']].tolist()"
   ]
  },
  {
   "cell_type": "code",
   "execution_count": 139,
   "metadata": {
    "collapsed": true
   },
   "outputs": [],
   "source": [
    "d = raw_train.ix[:len(y_sample)].apply(lambda x: '[math]' in x['question1'], axis=1)"
   ]
  },
  {
   "cell_type": "code",
   "execution_count": 140,
   "metadata": {
    "collapsed": true
   },
   "outputs": [],
   "source": [
    "unioned_new_scores = np.concatenate([unioned, tfidf_cosines.reshape(-1, 1)], axis=1)"
   ]
  },
  {
   "cell_type": "code",
   "execution_count": 141,
   "metadata": {
    "collapsed": true
   },
   "outputs": [],
   "source": [
    "x_train, x_test, y_train, y_test = train_test_split(unioned_new_scores, np.asarray(y_sample), test_size=.3)"
   ]
  },
  {
   "cell_type": "code",
   "execution_count": 142,
   "metadata": {},
   "outputs": [
    {
     "data": {
      "text/plain": [
       "LogisticRegression(C=5, class_weight=None, dual=False, fit_intercept=True,\n",
       "          intercept_scaling=1, max_iter=100, multi_class='ovr', n_jobs=1,\n",
       "          penalty='l2', random_state=None, solver='liblinear', tol=0.0001,\n",
       "          verbose=0, warm_start=False)"
      ]
     },
     "execution_count": 142,
     "metadata": {},
     "output_type": "execute_result"
    }
   ],
   "source": [
    "lr = LogisticRegression(C=5)\n",
    "lr.fit(x_train, y_train)"
   ]
  },
  {
   "cell_type": "code",
   "execution_count": 143,
   "metadata": {},
   "outputs": [
    {
     "data": {
      "text/plain": [
       "-0.55122361948517862"
      ]
     },
     "execution_count": 143,
     "metadata": {},
     "output_type": "execute_result"
    }
   ],
   "source": [
    "cross_val_score(lr, unioned_new_scores, y_sample, scoring='neg_log_loss', cv=10).mean()"
   ]
  },
  {
   "cell_type": "code",
   "execution_count": 144,
   "metadata": {
    "collapsed": true
   },
   "outputs": [],
   "source": [
    "poly = PolynomialFeatures(degree=2, interaction_only=True)\n",
    "poly_with_new = poly.fit_transform(unioned_new_scores)"
   ]
  },
  {
   "cell_type": "code",
   "execution_count": 145,
   "metadata": {},
   "outputs": [
    {
     "data": {
      "text/plain": [
       "-0.5393909211911514"
      ]
     },
     "execution_count": 145,
     "metadata": {},
     "output_type": "execute_result"
    }
   ],
   "source": [
    "cross_val_score(lr, poly_with_new, y_sample, scoring='neg_log_loss', cv=10).mean()"
   ]
  },
  {
   "cell_type": "code",
   "execution_count": 146,
   "metadata": {
    "collapsed": true
   },
   "outputs": [],
   "source": [
    "redundant_feats = merge_features(unioned_new_scores, lengths_info.ix[:, 4:].as_matrix())"
   ]
  },
  {
   "cell_type": "code",
   "execution_count": 147,
   "metadata": {},
   "outputs": [
    {
     "data": {
      "text/plain": [
       "-0.54971402570733829"
      ]
     },
     "execution_count": 147,
     "metadata": {},
     "output_type": "execute_result"
    }
   ],
   "source": [
    "cross_val_score(lr, redundant_feats, y_sample, scoring='neg_log_loss', cv=10).mean()"
   ]
  },
  {
   "cell_type": "code",
   "execution_count": 148,
   "metadata": {
    "collapsed": true
   },
   "outputs": [],
   "source": [
    "poly = PolynomialFeatures(degree=2, interaction_only=True)\n",
    "poly_with_redund = poly.fit_transform(redundant_feats)"
   ]
  },
  {
   "cell_type": "code",
   "execution_count": 149,
   "metadata": {},
   "outputs": [
    {
     "data": {
      "text/plain": [
       "-0.5392543061437739"
      ]
     },
     "execution_count": 149,
     "metadata": {},
     "output_type": "execute_result"
    }
   ],
   "source": [
    "cross_val_score(lr, poly_with_redund, y_sample, scoring='neg_log_loss', cv=10).mean()"
   ]
  },
  {
   "cell_type": "code",
   "execution_count": 150,
   "metadata": {},
   "outputs": [
    {
     "name": "stderr",
     "output_type": "stream",
     "text": [
      "/usr/local/lib/python3.5/dist-packages/sklearn/cross_validation.py:44: DeprecationWarning: This module was deprecated in version 0.18 in favor of the model_selection module into which all the refactored classes and functions are moved. Also note that the interface of the new CV iterators are different from that of this module. This module will be removed in 0.20.\n",
      "  \"This module will be removed in 0.20.\", DeprecationWarning)\n"
     ]
    }
   ],
   "source": [
    "import xgboost as xgb"
   ]
  },
  {
   "cell_type": "code",
   "execution_count": 151,
   "metadata": {
    "collapsed": true
   },
   "outputs": [],
   "source": [
    "params = {}\n",
    "params['objective'] = 'binary:logistic'\n",
    "params['eval_metric'] = 'logloss'\n",
    "params['eta'] = 0.02\n",
    "params['max_depth'] = 4\n",
    "\n",
    "#shameless theft from anokas' notebook, since I have precisely zero knowledge about tuning XGB"
   ]
  },
  {
   "cell_type": "code",
   "execution_count": 152,
   "metadata": {
    "scrolled": true
   },
   "outputs": [
    {
     "name": "stdout",
     "output_type": "stream",
     "text": [
      "[0]\ttrain-logloss:0.688132\tvalid-logloss:0.688599\n",
      "Multiple eval metrics have been passed: 'valid-logloss' will be used for early stopping.\n",
      "\n",
      "Will train until valid-logloss hasn't improved in 50 rounds.\n",
      "[10]\ttrain-logloss:0.646986\tvalid-logloss:0.651885\n",
      "[20]\ttrain-logloss:0.617926\tvalid-logloss:0.62671\n",
      "[30]\ttrain-logloss:0.596562\tvalid-logloss:0.608353\n",
      "[40]\ttrain-logloss:0.580417\tvalid-logloss:0.594828\n",
      "[50]\ttrain-logloss:0.567896\tvalid-logloss:0.584486\n",
      "[60]\ttrain-logloss:0.55807\tvalid-logloss:0.576711\n",
      "[70]\ttrain-logloss:0.550324\tvalid-logloss:0.571286\n",
      "[80]\ttrain-logloss:0.544083\tvalid-logloss:0.567163\n",
      "[90]\ttrain-logloss:0.539017\tvalid-logloss:0.563749\n",
      "[100]\ttrain-logloss:0.534848\tvalid-logloss:0.561216\n",
      "[110]\ttrain-logloss:0.531271\tvalid-logloss:0.559173\n",
      "[120]\ttrain-logloss:0.528275\tvalid-logloss:0.557496\n",
      "[130]\ttrain-logloss:0.526008\tvalid-logloss:0.556515\n",
      "[140]\ttrain-logloss:0.523975\tvalid-logloss:0.555651\n",
      "[150]\ttrain-logloss:0.522091\tvalid-logloss:0.554809\n",
      "[160]\ttrain-logloss:0.520617\tvalid-logloss:0.554281\n",
      "[170]\ttrain-logloss:0.519103\tvalid-logloss:0.5537\n",
      "[180]\ttrain-logloss:0.517727\tvalid-logloss:0.553138\n",
      "[190]\ttrain-logloss:0.516392\tvalid-logloss:0.552791\n",
      "[200]\ttrain-logloss:0.515292\tvalid-logloss:0.552608\n",
      "[210]\ttrain-logloss:0.514315\tvalid-logloss:0.552292\n",
      "[220]\ttrain-logloss:0.513285\tvalid-logloss:0.551959\n",
      "[230]\ttrain-logloss:0.512445\tvalid-logloss:0.551697\n",
      "[240]\ttrain-logloss:0.511386\tvalid-logloss:0.551403\n",
      "[250]\ttrain-logloss:0.510563\tvalid-logloss:0.551249\n",
      "[260]\ttrain-logloss:0.509565\tvalid-logloss:0.551033\n",
      "[270]\ttrain-logloss:0.508415\tvalid-logloss:0.550773\n",
      "[280]\ttrain-logloss:0.507446\tvalid-logloss:0.550598\n",
      "[290]\ttrain-logloss:0.506035\tvalid-logloss:0.550309\n",
      "[300]\ttrain-logloss:0.505081\tvalid-logloss:0.550071\n",
      "[310]\ttrain-logloss:0.503935\tvalid-logloss:0.549839\n",
      "[320]\ttrain-logloss:0.502916\tvalid-logloss:0.549638\n",
      "[330]\ttrain-logloss:0.501821\tvalid-logloss:0.549406\n",
      "[340]\ttrain-logloss:0.500779\tvalid-logloss:0.54919\n",
      "[350]\ttrain-logloss:0.499721\tvalid-logloss:0.549167\n",
      "[360]\ttrain-logloss:0.498723\tvalid-logloss:0.549148\n",
      "[370]\ttrain-logloss:0.497885\tvalid-logloss:0.549105\n",
      "[380]\ttrain-logloss:0.496941\tvalid-logloss:0.548973\n",
      "[390]\ttrain-logloss:0.495997\tvalid-logloss:0.548925\n"
     ]
    }
   ],
   "source": [
    "fin_x_train, fin_x_test, fin_y_train, fin_y_test = train_test_split(unioned_new_scores, y_sample)\n",
    "\n",
    "d_train = xgb.DMatrix(fin_x_train, label=fin_y_train)\n",
    "d_valid = xgb.DMatrix(fin_x_test, label=fin_y_test)\n",
    "\n",
    "watchlist = [(d_train, 'train'), (d_valid, 'valid')]\n",
    "\n",
    "bst = xgb.train(params, d_train, 400, watchlist, early_stopping_rounds=50, verbose_eval=10)"
   ]
  },
  {
   "cell_type": "code",
   "execution_count": 153,
   "metadata": {
    "collapsed": true
   },
   "outputs": [],
   "source": [
    "from nltk.stem import PorterStemmer\n",
    "from nltk import ne_chunk, ne_chunk_sents"
   ]
  },
  {
   "cell_type": "code",
   "execution_count": 154,
   "metadata": {
    "collapsed": true
   },
   "outputs": [],
   "source": [
    "from nltk import pos_tag, word_tokenize"
   ]
  },
  {
   "cell_type": "code",
   "execution_count": 155,
   "metadata": {
    "collapsed": true
   },
   "outputs": [],
   "source": [
    "from nltk.tag.stanford import StanfordNERTagger"
   ]
  },
  {
   "cell_type": "code",
   "execution_count": 156,
   "metadata": {
    "collapsed": true
   },
   "outputs": [],
   "source": [
    "base = '~Dokumenty/stanford-ner-2016-10-31/classifiers'"
   ]
  },
  {
   "cell_type": "code",
   "execution_count": 157,
   "metadata": {},
   "outputs": [
    {
     "data": {
      "text/plain": [
       "'~Dokumenty/stanford-ner-2016-10-31/classifiers/english.all.3class.distsim.crf.ser.gz'"
      ]
     },
     "execution_count": 157,
     "metadata": {},
     "output_type": "execute_result"
    }
   ],
   "source": [
    "base + '/' + 'english.all.3class.distsim.crf.ser.gz'"
   ]
  },
  {
   "cell_type": "code",
   "execution_count": 158,
   "metadata": {
    "collapsed": true
   },
   "outputs": [],
   "source": [
    "from sner import Ner"
   ]
  },
  {
   "cell_type": "code",
   "execution_count": 159,
   "metadata": {},
   "outputs": [
    {
     "name": "stdout",
     "output_type": "stream",
     "text": [
      "[('President', 'O'), ('Obama', 'PERSON'), ('took', 'O'), ('his', 'O'), ('daughter', 'O'), ('into', 'O'), ('White', 'LOCATION'), ('House', 'LOCATION'), ('.', 'O')]\n"
     ]
    }
   ],
   "source": [
    "test_string = \"President Obama took his daughter into White House.\"\n",
    "tagger = Ner(host='localhost',port=9199)\n",
    "print(tagger.get_entities(test_string))\n",
    "\n",
    "raw_train.head()\n",
    "\n",
    "def get_entities(row):\n",
    "    \n",
    "    q1 = [x for x in tagger.get_entities(row['question1']) if x[1] != 'O']\n",
    "    q2 = [x for x in tagger.get_entities(row['question2']) if x[1] != 'O']\n",
    "    \n",
    "    return [q1, q2]\n",
    "\n",
    "ent = raw_train.ix[:10000].apply(get_entities, axis=1)\n",
    "\n",
    "ent.apply(lambda x: True if x == [[], []] else False).mean()\n",
    "\n",
    "types_of_entities = set()\n",
    "\n",
    "for row in ent:\n",
    "    \n",
    "    types_of_entities = types_of_entities | set([x[1] for x in row[1]]) | set([x[1] for x in row[0]])\n",
    "\n",
    "types_of_entities\n",
    "\n",
    "from collections import defaultdict\n",
    "\n",
    "def get_entities_diff(row):\n",
    "    \n",
    "    counts = [defaultdict(list), defaultdict(list)]\n",
    "    \n",
    "    for r in range(2):\n",
    "        \n",
    "        for ent in row[r]:\n",
    "            \n",
    "            counts[r][ent[1]].append(ent[0])\n",
    "            \n",
    "    stats = []\n",
    "            \n",
    "    for t in ['LOCATION', 'ORGANIZATION', 'PERSON']:\n",
    "        \n",
    "        common = [x for x in counts[0][t] if x in counts[1][t]] + [x for x in counts[1][t] if x in counts[0][t]]\n",
    "        logor = counts[0][t] + counts[1][t]\n",
    "        prop = len(common)/len(logor) if len(logor) else 0\n",
    "        \n",
    "        stats += [prop, len(common), len(logor), len(counts[1][t]), len(counts[0][t]), \n",
    "                  abs(len(counts[1][t]) - len(counts[0][t]))]\n",
    "        \n",
    "    return stats"
   ]
  },
  {
   "cell_type": "code",
   "execution_count": 160,
   "metadata": {},
   "outputs": [],
   "source": [
    "entx = np.asarray(ent.apply(get_entities_diff).tolist())"
   ]
  },
  {
   "cell_type": "code",
   "execution_count": 161,
   "metadata": {},
   "outputs": [
    {
     "name": "stdout",
     "output_type": "stream",
     "text": [
      "-0.674827119807\n",
      "-0.674856099435\n",
      "-0.674867152136\n",
      "-0.674872870946\n",
      "-0.674876129448\n",
      "-0.674878486814\n",
      "-0.674879803005\n",
      "-0.674881106729\n",
      "-0.674882092988\n"
     ]
    }
   ],
   "source": [
    "for c in range(1, 10):\n",
    "\n",
    "    lr = LogisticRegression(C=c, class_weight='balanced')\n",
    "\n",
    "    print(cross_val_score(lr, entx, raw_train.ix[:len(entx)-1, 'is_duplicate'], cv=10, scoring='neg_log_loss').mean())"
   ]
  },
  {
   "cell_type": "code",
   "execution_count": 162,
   "metadata": {
    "collapsed": true
   },
   "outputs": [],
   "source": [
    "y = raw_train.ix[:len(entx)-2, 'is_duplicate'].as_matrix()"
   ]
  },
  {
   "cell_type": "code",
   "execution_count": 171,
   "metadata": {
    "scrolled": true
   },
   "outputs": [
    {
     "data": {
      "text/plain": [
       "-0.54407724373696398"
      ]
     },
     "execution_count": 171,
     "metadata": {},
     "output_type": "execute_result"
    }
   ],
   "source": [
    "lr = LogisticRegression(C=5)\n",
    "cross_val_score(lr, np.hstack([redundant_feats, entx[:-1]]), y_sample, scoring='neg_log_loss', cv=10).mean()"
   ]
  },
  {
   "cell_type": "code",
   "execution_count": 172,
   "metadata": {},
   "outputs": [
    {
     "data": {
      "text/plain": [
       "(10000, 16)"
      ]
     },
     "execution_count": 172,
     "metadata": {},
     "output_type": "execute_result"
    }
   ],
   "source": [
    "redundant_feats.shape"
   ]
  },
  {
   "cell_type": "code",
   "execution_count": 175,
   "metadata": {},
   "outputs": [
    {
     "data": {
      "text/plain": [
       "0.8081336133582695"
      ]
     },
     "execution_count": 175,
     "metadata": {},
     "output_type": "execute_result"
    }
   ],
   "source": [
    "log_loss(y_sample, [1-.36]*len(y_sample))"
   ]
  }
 ],
 "metadata": {
  "kernelspec": {
   "display_name": "Python 3",
   "language": "python",
   "name": "python3"
  },
  "language_info": {
   "codemirror_mode": {
    "name": "ipython",
    "version": 3
   },
   "file_extension": ".py",
   "mimetype": "text/x-python",
   "name": "python",
   "nbconvert_exporter": "python",
   "pygments_lexer": "ipython3",
   "version": "3.5.2"
  }
 },
 "nbformat": 4,
 "nbformat_minor": 2
}
